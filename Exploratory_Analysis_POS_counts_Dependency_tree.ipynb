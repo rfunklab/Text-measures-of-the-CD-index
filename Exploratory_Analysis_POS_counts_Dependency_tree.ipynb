{
 "cells": [
  {
   "cell_type": "markdown",
   "metadata": {},
   "source": [
    "## Python Setup"
   ]
  },
  {
   "cell_type": "code",
   "execution_count": 249,
   "metadata": {
    "ExecuteTime": {
     "end_time": "2019-10-08T13:52:01.736619Z",
     "start_time": "2019-10-08T13:52:00.632638Z"
    }
   },
   "outputs": [],
   "source": [
    "import pandas as pd\n",
    "from collections import Counter\n",
    "pd.reset_option('display.max_colwidth')\n",
    "\n",
    "# Visualization\n",
    "\n",
    "from wordcloud import WordCloud, STOPWORDS \n",
    "import matplotlib.pyplot as plt"
   ]
  },
  {
   "cell_type": "markdown",
   "metadata": {},
   "source": [
    "## Import Data"
   ]
  },
  {
   "cell_type": "code",
   "execution_count": null,
   "metadata": {
    "ExecuteTime": {
     "end_time": "2019-10-08T13:53:42.847377Z",
     "start_time": "2019-10-08T13:52:03.050340Z"
    }
   },
   "outputs": [],
   "source": [
    "document_attributes = pd.read_csv('document_attributes.csv', header=None)\n",
    "document_attributes_with_title_tokens = pd.read_csv('document_attributes_with_title_tokens.csv',error_bad_lines=False, header=None)"
   ]
  },
  {
   "cell_type": "code",
   "execution_count": null,
   "metadata": {
    "ExecuteTime": {
     "end_time": "2019-10-08T13:54:16.265422Z",
     "start_time": "2019-10-08T13:53:42.997299Z"
    }
   },
   "outputs": [],
   "source": [
    "document_title_tokens = pd.read_csv('document_title_tokens.csv',error_bad_lines=False,header=None)"
   ]
  },
  {
   "cell_type": "markdown",
   "metadata": {},
   "source": [
    "## Exploratory Analysis"
   ]
  },
  {
   "cell_type": "markdown",
   "metadata": {},
   "source": [
    "### Count of POS in publications and in patents"
   ]
  },
  {
   "cell_type": "code",
   "execution_count": 3,
   "metadata": {
    "ExecuteTime": {
     "end_time": "2019-10-08T13:55:35.972566Z",
     "start_time": "2019-10-08T13:55:17.859760Z"
    }
   },
   "outputs": [],
   "source": [
    "groupby = document_title_tokens.groupby([0,4]).size().unstack(fill_value=0).reset_index()"
   ]
  },
  {
   "cell_type": "code",
   "execution_count": 20,
   "metadata": {},
   "outputs": [],
   "source": [
    "patents = groupby[groupby[0].str.startswith('p')]"
   ]
  },
  {
   "cell_type": "code",
   "execution_count": 21,
   "metadata": {},
   "outputs": [],
   "source": [
    "publications = groupby[groupby[0].str.startswith('a')]"
   ]
  },
  {
   "cell_type": "code",
   "execution_count": 22,
   "metadata": {},
   "outputs": [],
   "source": [
    "publications = publications.head(999996)"
   ]
  },
  {
   "cell_type": "code",
   "execution_count": 23,
   "metadata": {},
   "outputs": [
    {
     "data": {
      "text/plain": [
       "999996"
      ]
     },
     "execution_count": 23,
     "metadata": {},
     "output_type": "execute_result"
    }
   ],
   "source": [
    "len(publications)"
   ]
  },
  {
   "cell_type": "code",
   "execution_count": 24,
   "metadata": {},
   "outputs": [
    {
     "data": {
      "text/plain": [
       "999996"
      ]
     },
     "execution_count": 24,
     "metadata": {},
     "output_type": "execute_result"
    }
   ],
   "source": [
    "len(patents)"
   ]
  },
  {
   "cell_type": "code",
   "execution_count": 25,
   "metadata": {},
   "outputs": [],
   "source": [
    "publications.loc['Total',:]= publications.sum(axis=0)"
   ]
  },
  {
   "cell_type": "code",
   "execution_count": 27,
   "metadata": {},
   "outputs": [
    {
     "name": "stderr",
     "output_type": "stream",
     "text": [
      "/home/ekaterina/anaconda3/lib/python3.6/site-packages/ipykernel_launcher.py:1: SettingWithCopyWarning: \n",
      "A value is trying to be set on a copy of a slice from a DataFrame\n",
      "\n",
      "See the caveats in the documentation: http://pandas.pydata.org/pandas-docs/stable/indexing.html#indexing-view-versus-copy\n",
      "  \"\"\"Entry point for launching an IPython kernel.\n"
     ]
    }
   ],
   "source": [
    "patents.loc['Total',:]= patents.sum(axis=0)"
   ]
  },
  {
   "cell_type": "code",
   "execution_count": 49,
   "metadata": {},
   "outputs": [],
   "source": [
    "patents_total = patents.loc['Total'].reset_index()"
   ]
  },
  {
   "cell_type": "code",
   "execution_count": 50,
   "metadata": {},
   "outputs": [],
   "source": [
    "publications_total = publications.loc['Total'].reset_index()"
   ]
  },
  {
   "cell_type": "code",
   "execution_count": 51,
   "metadata": {},
   "outputs": [],
   "source": [
    "patents_total = patents_total.rename(columns={'Total':'Patents_Total'})"
   ]
  },
  {
   "cell_type": "code",
   "execution_count": 52,
   "metadata": {},
   "outputs": [],
   "source": [
    "publications_total = publications_total.rename(columns={'Total':'Publications_Total'})"
   ]
  },
  {
   "cell_type": "code",
   "execution_count": 53,
   "metadata": {},
   "outputs": [],
   "source": [
    "patents_total = patents_total[1:]"
   ]
  },
  {
   "cell_type": "code",
   "execution_count": 54,
   "metadata": {},
   "outputs": [],
   "source": [
    "publications_total = publications_total[1:]"
   ]
  },
  {
   "cell_type": "code",
   "execution_count": 55,
   "metadata": {},
   "outputs": [],
   "source": [
    "publications_total['Publications_Total'] = publications_total['Publications_Total'].astype(float)\n",
    "\n",
    "patents_total['Patents_Total'] = patents_total['Patents_Total'].astype(float)"
   ]
  },
  {
   "cell_type": "code",
   "execution_count": 58,
   "metadata": {},
   "outputs": [
    {
     "data": {
      "text/html": [
       "<div>\n",
       "<style scoped>\n",
       "    .dataframe tbody tr th:only-of-type {\n",
       "        vertical-align: middle;\n",
       "    }\n",
       "\n",
       "    .dataframe tbody tr th {\n",
       "        vertical-align: top;\n",
       "    }\n",
       "\n",
       "    .dataframe thead th {\n",
       "        text-align: right;\n",
       "    }\n",
       "</style>\n",
       "<table border=\"1\" class=\"dataframe\">\n",
       "  <thead>\n",
       "    <tr style=\"text-align: right;\">\n",
       "      <th></th>\n",
       "      <th>4</th>\n",
       "      <th>Publications_Total</th>\n",
       "      <th>Patents_Total</th>\n",
       "    </tr>\n",
       "  </thead>\n",
       "  <tbody>\n",
       "    <tr>\n",
       "      <th>8</th>\n",
       "      <td>NOUN</td>\n",
       "      <td>4924943.0</td>\n",
       "      <td>4054404.0</td>\n",
       "    </tr>\n",
       "    <tr>\n",
       "      <th>0</th>\n",
       "      <td>ADJ</td>\n",
       "      <td>1699281.0</td>\n",
       "      <td>957144.0</td>\n",
       "    </tr>\n",
       "    <tr>\n",
       "      <th>1</th>\n",
       "      <td>ADP</td>\n",
       "      <td>2176012.0</td>\n",
       "      <td>939186.0</td>\n",
       "    </tr>\n",
       "    <tr>\n",
       "      <th>17</th>\n",
       "      <td>VERB</td>\n",
       "      <td>691019.0</td>\n",
       "      <td>821422.0</td>\n",
       "    </tr>\n",
       "    <tr>\n",
       "      <th>4</th>\n",
       "      <td>CCONJ</td>\n",
       "      <td>521554.0</td>\n",
       "      <td>426691.0</td>\n",
       "    </tr>\n",
       "    <tr>\n",
       "      <th>5</th>\n",
       "      <td>DET</td>\n",
       "      <td>736175.0</td>\n",
       "      <td>345021.0</td>\n",
       "    </tr>\n",
       "    <tr>\n",
       "      <th>13</th>\n",
       "      <td>PUNCT</td>\n",
       "      <td>1237027.0</td>\n",
       "      <td>295343.0</td>\n",
       "    </tr>\n",
       "    <tr>\n",
       "      <th>12</th>\n",
       "      <td>PROPN</td>\n",
       "      <td>2249001.0</td>\n",
       "      <td>178585.0</td>\n",
       "    </tr>\n",
       "    <tr>\n",
       "      <th>2</th>\n",
       "      <td>ADV</td>\n",
       "      <td>71118.0</td>\n",
       "      <td>85444.0</td>\n",
       "    </tr>\n",
       "    <tr>\n",
       "      <th>9</th>\n",
       "      <td>NUM</td>\n",
       "      <td>144202.0</td>\n",
       "      <td>27832.0</td>\n",
       "    </tr>\n",
       "    <tr>\n",
       "      <th>11</th>\n",
       "      <td>PRON</td>\n",
       "      <td>44787.0</td>\n",
       "      <td>22223.0</td>\n",
       "    </tr>\n",
       "    <tr>\n",
       "      <th>10</th>\n",
       "      <td>PART</td>\n",
       "      <td>55347.0</td>\n",
       "      <td>20889.0</td>\n",
       "    </tr>\n",
       "    <tr>\n",
       "      <th>16</th>\n",
       "      <td>SYM</td>\n",
       "      <td>45193.0</td>\n",
       "      <td>15600.0</td>\n",
       "    </tr>\n",
       "    <tr>\n",
       "      <th>14</th>\n",
       "      <td>SCONJ</td>\n",
       "      <td>31487.0</td>\n",
       "      <td>13562.0</td>\n",
       "    </tr>\n",
       "    <tr>\n",
       "      <th>3</th>\n",
       "      <td>AUX</td>\n",
       "      <td>43767.0</td>\n",
       "      <td>7716.0</td>\n",
       "    </tr>\n",
       "    <tr>\n",
       "      <th>18</th>\n",
       "      <td>X</td>\n",
       "      <td>20664.0</td>\n",
       "      <td>4036.0</td>\n",
       "    </tr>\n",
       "    <tr>\n",
       "      <th>6</th>\n",
       "      <td>INTJ</td>\n",
       "      <td>1397.0</td>\n",
       "      <td>698.0</td>\n",
       "    </tr>\n",
       "    <tr>\n",
       "      <th>15</th>\n",
       "      <td>SPACE</td>\n",
       "      <td>0.0</td>\n",
       "      <td>77.0</td>\n",
       "    </tr>\n",
       "    <tr>\n",
       "      <th>7</th>\n",
       "      <td>NNS</td>\n",
       "      <td>1.0</td>\n",
       "      <td>0.0</td>\n",
       "    </tr>\n",
       "  </tbody>\n",
       "</table>\n",
       "</div>"
      ],
      "text/plain": [
       "        4  Publications_Total  Patents_Total\n",
       "8    NOUN           4924943.0      4054404.0\n",
       "0     ADJ           1699281.0       957144.0\n",
       "1     ADP           2176012.0       939186.0\n",
       "17   VERB            691019.0       821422.0\n",
       "4   CCONJ            521554.0       426691.0\n",
       "5     DET            736175.0       345021.0\n",
       "13  PUNCT           1237027.0       295343.0\n",
       "12  PROPN           2249001.0       178585.0\n",
       "2     ADV             71118.0        85444.0\n",
       "9     NUM            144202.0        27832.0\n",
       "11   PRON             44787.0        22223.0\n",
       "10   PART             55347.0        20889.0\n",
       "16    SYM             45193.0        15600.0\n",
       "14  SCONJ             31487.0        13562.0\n",
       "3     AUX             43767.0         7716.0\n",
       "18      X             20664.0         4036.0\n",
       "6    INTJ              1397.0          698.0\n",
       "15  SPACE                 0.0           77.0\n",
       "7     NNS                 1.0            0.0"
      ]
     },
     "execution_count": 58,
     "metadata": {},
     "output_type": "execute_result"
    }
   ],
   "source": [
    "publications_total.merge(patents_total,on=4).sort_values('Patents_Total', ascending=False)"
   ]
  },
  {
   "cell_type": "code",
   "execution_count": 252,
   "metadata": {},
   "outputs": [],
   "source": [
    "patents = document_attributes_with_title_tokens[document_attributes_with_title_tokens[0].str.startswith('p')]\n",
    "\n",
    "publications = document_attributes_with_title_tokens[document_attributes_with_title_tokens[0].str.startswith('a')]\n",
    "\n",
    "patents_above_zero = patents[patents[8] > '0.5']\n",
    "\n",
    "publications_above_zero = publications[publications[8] > '0.5']\n",
    "\n",
    "patents_above_zero_count = patents_above_zero.groupby([0,14]).size().unstack(fill_value=0).reset_index()\n",
    "\n",
    "publications_above_zero_count = publications_above_zero.groupby([0,14]).size().unstack(fill_value=0).reset_index()"
   ]
  },
  {
   "cell_type": "code",
   "execution_count": 256,
   "metadata": {},
   "outputs": [
    {
     "data": {
      "text/plain": [
       "140518"
      ]
     },
     "execution_count": 256,
     "metadata": {},
     "output_type": "execute_result"
    }
   ],
   "source": [
    "len(patents_above_zero_count)"
   ]
  },
  {
   "cell_type": "code",
   "execution_count": 257,
   "metadata": {},
   "outputs": [
    {
     "data": {
      "text/plain": [
       "99778"
      ]
     },
     "execution_count": 257,
     "metadata": {},
     "output_type": "execute_result"
    }
   ],
   "source": [
    "len(publications_above_zero_count)"
   ]
  },
  {
   "cell_type": "code",
   "execution_count": 258,
   "metadata": {},
   "outputs": [],
   "source": [
    "patents_above_zero_count = patents_above_zero_count.head(99778)"
   ]
  },
  {
   "cell_type": "code",
   "execution_count": 259,
   "metadata": {},
   "outputs": [
    {
     "data": {
      "text/plain": [
       "99778"
      ]
     },
     "execution_count": 259,
     "metadata": {},
     "output_type": "execute_result"
    }
   ],
   "source": [
    "len(patents_above_zero_count)"
   ]
  },
  {
   "cell_type": "code",
   "execution_count": 260,
   "metadata": {},
   "outputs": [],
   "source": [
    "patents_above_zero_count.loc['Patents_Total_above_zero',:]= patents_above_zero_count.sum(axis=0)\n",
    "\n",
    "publications_above_zero_count.loc['Publications_Total_above_zero',:]= publications_above_zero_count.sum(axis=0)"
   ]
  },
  {
   "cell_type": "code",
   "execution_count": 262,
   "metadata": {},
   "outputs": [
    {
     "data": {
      "text/html": [
       "<div>\n",
       "<style scoped>\n",
       "    .dataframe tbody tr th:only-of-type {\n",
       "        vertical-align: middle;\n",
       "    }\n",
       "\n",
       "    .dataframe tbody tr th {\n",
       "        vertical-align: top;\n",
       "    }\n",
       "\n",
       "    .dataframe thead th {\n",
       "        text-align: right;\n",
       "    }\n",
       "</style>\n",
       "<table border=\"1\" class=\"dataframe\">\n",
       "  <thead>\n",
       "    <tr style=\"text-align: right;\">\n",
       "      <th></th>\n",
       "      <th>14</th>\n",
       "      <th>Publications_Total_above_zero</th>\n",
       "      <th>Patents_Total_above_zero</th>\n",
       "    </tr>\n",
       "  </thead>\n",
       "  <tbody>\n",
       "    <tr>\n",
       "      <th>1</th>\n",
       "      <td>ADJ</td>\n",
       "      <td>151964</td>\n",
       "      <td>82625</td>\n",
       "    </tr>\n",
       "    <tr>\n",
       "      <th>2</th>\n",
       "      <td>ADP</td>\n",
       "      <td>208411</td>\n",
       "      <td>82508</td>\n",
       "    </tr>\n",
       "    <tr>\n",
       "      <th>3</th>\n",
       "      <td>ADV</td>\n",
       "      <td>7060</td>\n",
       "      <td>7838</td>\n",
       "    </tr>\n",
       "    <tr>\n",
       "      <th>4</th>\n",
       "      <td>AUX</td>\n",
       "      <td>4339</td>\n",
       "      <td>615</td>\n",
       "    </tr>\n",
       "    <tr>\n",
       "      <th>5</th>\n",
       "      <td>CCONJ</td>\n",
       "      <td>49568</td>\n",
       "      <td>28257</td>\n",
       "    </tr>\n",
       "    <tr>\n",
       "      <th>6</th>\n",
       "      <td>DET</td>\n",
       "      <td>77244</td>\n",
       "      <td>26923</td>\n",
       "    </tr>\n",
       "    <tr>\n",
       "      <th>7</th>\n",
       "      <td>INTJ</td>\n",
       "      <td>132</td>\n",
       "      <td>140</td>\n",
       "    </tr>\n",
       "    <tr>\n",
       "      <th>8</th>\n",
       "      <td>NOUN</td>\n",
       "      <td>442375</td>\n",
       "      <td>340186</td>\n",
       "    </tr>\n",
       "    <tr>\n",
       "      <th>9</th>\n",
       "      <td>NUM</td>\n",
       "      <td>13172</td>\n",
       "      <td>4099</td>\n",
       "    </tr>\n",
       "    <tr>\n",
       "      <th>10</th>\n",
       "      <td>PART</td>\n",
       "      <td>7318</td>\n",
       "      <td>1205</td>\n",
       "    </tr>\n",
       "    <tr>\n",
       "      <th>11</th>\n",
       "      <td>PRON</td>\n",
       "      <td>5089</td>\n",
       "      <td>2622</td>\n",
       "    </tr>\n",
       "    <tr>\n",
       "      <th>12</th>\n",
       "      <td>PROPN</td>\n",
       "      <td>266776</td>\n",
       "      <td>20164</td>\n",
       "    </tr>\n",
       "    <tr>\n",
       "      <th>13</th>\n",
       "      <td>PUNCT</td>\n",
       "      <td>117292</td>\n",
       "      <td>24420</td>\n",
       "    </tr>\n",
       "    <tr>\n",
       "      <th>14</th>\n",
       "      <td>SCONJ</td>\n",
       "      <td>3182</td>\n",
       "      <td>1675</td>\n",
       "    </tr>\n",
       "    <tr>\n",
       "      <th>15</th>\n",
       "      <td>SYM</td>\n",
       "      <td>4461</td>\n",
       "      <td>861</td>\n",
       "    </tr>\n",
       "    <tr>\n",
       "      <th>16</th>\n",
       "      <td>VERB</td>\n",
       "      <td>69458</td>\n",
       "      <td>67118</td>\n",
       "    </tr>\n",
       "    <tr>\n",
       "      <th>17</th>\n",
       "      <td>X</td>\n",
       "      <td>1500</td>\n",
       "      <td>737</td>\n",
       "    </tr>\n",
       "  </tbody>\n",
       "</table>\n",
       "</div>"
      ],
      "text/plain": [
       "       14 Publications_Total_above_zero Patents_Total_above_zero\n",
       "1     ADJ                        151964                    82625\n",
       "2     ADP                        208411                    82508\n",
       "3     ADV                          7060                     7838\n",
       "4     AUX                          4339                      615\n",
       "5   CCONJ                         49568                    28257\n",
       "6     DET                         77244                    26923\n",
       "7    INTJ                           132                      140\n",
       "8    NOUN                        442375                   340186\n",
       "9     NUM                         13172                     4099\n",
       "10   PART                          7318                     1205\n",
       "11   PRON                          5089                     2622\n",
       "12  PROPN                        266776                    20164\n",
       "13  PUNCT                        117292                    24420\n",
       "14  SCONJ                          3182                     1675\n",
       "15    SYM                          4461                      861\n",
       "16   VERB                         69458                    67118\n",
       "17      X                          1500                      737"
      ]
     },
     "execution_count": 262,
     "metadata": {},
     "output_type": "execute_result"
    }
   ],
   "source": [
    "publications_above_zero_count.loc['Publications_Total_above_zero'].reset_index().merge(patents_above_zero_count.loc['Patents_Total_above_zero'].reset_index(),on=14)[1:]"
   ]
  },
  {
   "cell_type": "code",
   "execution_count": 263,
   "metadata": {},
   "outputs": [],
   "source": [
    "patents_below_zero = patents[patents[8] < '-0.5']\n",
    "\n",
    "publications_below_zero = publications[publications[8] < '-0.5']\n",
    "\n",
    "patents_below_zero_count = patents_below_zero.groupby([0,14]).size().unstack(fill_value=0).reset_index()\n",
    "\n",
    "publications_below_zero_count = publications_below_zero.groupby([0,14]).size().unstack(fill_value=0).reset_index()"
   ]
  },
  {
   "cell_type": "code",
   "execution_count": 265,
   "metadata": {},
   "outputs": [
    {
     "data": {
      "text/plain": [
       "214104"
      ]
     },
     "execution_count": 265,
     "metadata": {},
     "output_type": "execute_result"
    }
   ],
   "source": [
    "len(patents_below_zero_count)"
   ]
  },
  {
   "cell_type": "code",
   "execution_count": 268,
   "metadata": {},
   "outputs": [
    {
     "data": {
      "text/plain": [
       "214104"
      ]
     },
     "execution_count": 268,
     "metadata": {},
     "output_type": "execute_result"
    }
   ],
   "source": [
    "len(publications_below_zero_count)"
   ]
  },
  {
   "cell_type": "code",
   "execution_count": 274,
   "metadata": {},
   "outputs": [
    {
     "data": {
      "text/plain": [
       "214105"
      ]
     },
     "execution_count": 274,
     "metadata": {},
     "output_type": "execute_result"
    }
   ],
   "source": [
    "patents_below_zero_count[0].nunique()"
   ]
  },
  {
   "cell_type": "code",
   "execution_count": 275,
   "metadata": {},
   "outputs": [
    {
     "data": {
      "text/plain": [
       "214105"
      ]
     },
     "execution_count": 275,
     "metadata": {},
     "output_type": "execute_result"
    }
   ],
   "source": [
    "publications_below_zero_count[0].nunique()"
   ]
  },
  {
   "cell_type": "code",
   "execution_count": 267,
   "metadata": {},
   "outputs": [],
   "source": [
    "publications_below_zero_count = publications_below_zero_count.head(214104)\n",
    "\n",
    "patents_below_zero_count.loc['Patents_Total_below_zero',:]= patents_below_zero_count.sum(axis=0)\n",
    "\n",
    "publications_below_zero_count.loc['Publications_Total_below_zero',:]= publications_below_zero_count.sum(axis=0)"
   ]
  },
  {
   "cell_type": "code",
   "execution_count": 276,
   "metadata": {},
   "outputs": [
    {
     "data": {
      "text/html": [
       "<div>\n",
       "<style scoped>\n",
       "    .dataframe tbody tr th:only-of-type {\n",
       "        vertical-align: middle;\n",
       "    }\n",
       "\n",
       "    .dataframe tbody tr th {\n",
       "        vertical-align: top;\n",
       "    }\n",
       "\n",
       "    .dataframe thead th {\n",
       "        text-align: right;\n",
       "    }\n",
       "</style>\n",
       "<table border=\"1\" class=\"dataframe\">\n",
       "  <thead>\n",
       "    <tr style=\"text-align: right;\">\n",
       "      <th></th>\n",
       "      <th>14</th>\n",
       "      <th>Publications_Total_below_zero</th>\n",
       "      <th>Patents_Total_below_zero</th>\n",
       "    </tr>\n",
       "  </thead>\n",
       "  <tbody>\n",
       "    <tr>\n",
       "      <th>1</th>\n",
       "      <td>ADJ</td>\n",
       "      <td>378135</td>\n",
       "      <td>207263</td>\n",
       "    </tr>\n",
       "    <tr>\n",
       "      <th>2</th>\n",
       "      <td>ADP</td>\n",
       "      <td>478211</td>\n",
       "      <td>194156</td>\n",
       "    </tr>\n",
       "    <tr>\n",
       "      <th>3</th>\n",
       "      <td>ADV</td>\n",
       "      <td>14952</td>\n",
       "      <td>16833</td>\n",
       "    </tr>\n",
       "    <tr>\n",
       "      <th>4</th>\n",
       "      <td>AUX</td>\n",
       "      <td>8368</td>\n",
       "      <td>1451</td>\n",
       "    </tr>\n",
       "    <tr>\n",
       "      <th>5</th>\n",
       "      <td>CCONJ</td>\n",
       "      <td>114197</td>\n",
       "      <td>89138</td>\n",
       "    </tr>\n",
       "    <tr>\n",
       "      <th>6</th>\n",
       "      <td>DET</td>\n",
       "      <td>164136</td>\n",
       "      <td>68423</td>\n",
       "    </tr>\n",
       "    <tr>\n",
       "      <th>7</th>\n",
       "      <td>INTJ</td>\n",
       "      <td>299</td>\n",
       "      <td>142</td>\n",
       "    </tr>\n",
       "    <tr>\n",
       "      <th>8</th>\n",
       "      <td>NOUN</td>\n",
       "      <td>1.15766e+06</td>\n",
       "      <td>842480</td>\n",
       "    </tr>\n",
       "    <tr>\n",
       "      <th>9</th>\n",
       "      <td>NUM</td>\n",
       "      <td>34498</td>\n",
       "      <td>5452</td>\n",
       "    </tr>\n",
       "    <tr>\n",
       "      <th>10</th>\n",
       "      <td>PART</td>\n",
       "      <td>8868</td>\n",
       "      <td>4482</td>\n",
       "    </tr>\n",
       "    <tr>\n",
       "      <th>11</th>\n",
       "      <td>PRON</td>\n",
       "      <td>8957</td>\n",
       "      <td>3873</td>\n",
       "    </tr>\n",
       "    <tr>\n",
       "      <th>12</th>\n",
       "      <td>PROPN</td>\n",
       "      <td>368213</td>\n",
       "      <td>35609</td>\n",
       "    </tr>\n",
       "    <tr>\n",
       "      <th>13</th>\n",
       "      <td>PUNCT</td>\n",
       "      <td>307773</td>\n",
       "      <td>55596</td>\n",
       "    </tr>\n",
       "    <tr>\n",
       "      <th>14</th>\n",
       "      <td>SCONJ</td>\n",
       "      <td>5216</td>\n",
       "      <td>2578</td>\n",
       "    </tr>\n",
       "    <tr>\n",
       "      <th>15</th>\n",
       "      <td>SYM</td>\n",
       "      <td>8537</td>\n",
       "      <td>3155</td>\n",
       "    </tr>\n",
       "    <tr>\n",
       "      <th>16</th>\n",
       "      <td>VERB</td>\n",
       "      <td>132800</td>\n",
       "      <td>169471</td>\n",
       "    </tr>\n",
       "    <tr>\n",
       "      <th>17</th>\n",
       "      <td>X</td>\n",
       "      <td>5569</td>\n",
       "      <td>620</td>\n",
       "    </tr>\n",
       "  </tbody>\n",
       "</table>\n",
       "</div>"
      ],
      "text/plain": [
       "       14 Publications_Total_below_zero Patents_Total_below_zero\n",
       "1     ADJ                        378135                   207263\n",
       "2     ADP                        478211                   194156\n",
       "3     ADV                         14952                    16833\n",
       "4     AUX                          8368                     1451\n",
       "5   CCONJ                        114197                    89138\n",
       "6     DET                        164136                    68423\n",
       "7    INTJ                           299                      142\n",
       "8    NOUN                   1.15766e+06                   842480\n",
       "9     NUM                         34498                     5452\n",
       "10   PART                          8868                     4482\n",
       "11   PRON                          8957                     3873\n",
       "12  PROPN                        368213                    35609\n",
       "13  PUNCT                        307773                    55596\n",
       "14  SCONJ                          5216                     2578\n",
       "15    SYM                          8537                     3155\n",
       "16   VERB                        132800                   169471\n",
       "17      X                          5569                      620"
      ]
     },
     "execution_count": 276,
     "metadata": {},
     "output_type": "execute_result"
    }
   ],
   "source": [
    "publications_below_zero_count.loc['Publications_Total_below_zero'].reset_index().merge(patents_below_zero_count.loc['Patents_Total_below_zero'].reset_index(),on=14)[1:]"
   ]
  },
  {
   "cell_type": "code",
   "execution_count": 278,
   "metadata": {},
   "outputs": [
    {
     "data": {
      "text/plain": [
       "99779"
      ]
     },
     "execution_count": 278,
     "metadata": {},
     "output_type": "execute_result"
    }
   ],
   "source": [
    "publications_above_zero_count[0].nunique()"
   ]
  },
  {
   "cell_type": "code",
   "execution_count": 281,
   "metadata": {},
   "outputs": [],
   "source": [
    "publications_below_zero_count = publications_below_zero_count.head(99779)\n",
    "\n",
    "publications_below_zero_count.loc['Publications_Total_below_zero_updated',:]= publications_below_zero_count.sum(axis=0)"
   ]
  },
  {
   "cell_type": "code",
   "execution_count": 287,
   "metadata": {},
   "outputs": [
    {
     "data": {
      "text/html": [
       "<div>\n",
       "<style scoped>\n",
       "    .dataframe tbody tr th:only-of-type {\n",
       "        vertical-align: middle;\n",
       "    }\n",
       "\n",
       "    .dataframe tbody tr th {\n",
       "        vertical-align: top;\n",
       "    }\n",
       "\n",
       "    .dataframe thead th {\n",
       "        text-align: right;\n",
       "    }\n",
       "</style>\n",
       "<table border=\"1\" class=\"dataframe\">\n",
       "  <thead>\n",
       "    <tr style=\"text-align: right;\">\n",
       "      <th></th>\n",
       "      <th>14</th>\n",
       "      <th>Publications_Total_above_zero</th>\n",
       "      <th>Publications_Total_below_zero_updated</th>\n",
       "    </tr>\n",
       "  </thead>\n",
       "  <tbody>\n",
       "    <tr>\n",
       "      <th>1</th>\n",
       "      <td>ADJ</td>\n",
       "      <td>151964</td>\n",
       "      <td>149102</td>\n",
       "    </tr>\n",
       "    <tr>\n",
       "      <th>2</th>\n",
       "      <td>ADP</td>\n",
       "      <td>208411</td>\n",
       "      <td>223894</td>\n",
       "    </tr>\n",
       "    <tr>\n",
       "      <th>3</th>\n",
       "      <td>ADV</td>\n",
       "      <td>7060</td>\n",
       "      <td>6354</td>\n",
       "    </tr>\n",
       "    <tr>\n",
       "      <th>4</th>\n",
       "      <td>AUX</td>\n",
       "      <td>4339</td>\n",
       "      <td>2213</td>\n",
       "    </tr>\n",
       "    <tr>\n",
       "      <th>5</th>\n",
       "      <td>CCONJ</td>\n",
       "      <td>49568</td>\n",
       "      <td>53428</td>\n",
       "    </tr>\n",
       "    <tr>\n",
       "      <th>6</th>\n",
       "      <td>DET</td>\n",
       "      <td>77244</td>\n",
       "      <td>77019</td>\n",
       "    </tr>\n",
       "    <tr>\n",
       "      <th>7</th>\n",
       "      <td>INTJ</td>\n",
       "      <td>132</td>\n",
       "      <td>129</td>\n",
       "    </tr>\n",
       "    <tr>\n",
       "      <th>8</th>\n",
       "      <td>NOUN</td>\n",
       "      <td>442375</td>\n",
       "      <td>514413</td>\n",
       "    </tr>\n",
       "    <tr>\n",
       "      <th>9</th>\n",
       "      <td>NUM</td>\n",
       "      <td>13172</td>\n",
       "      <td>15566</td>\n",
       "    </tr>\n",
       "    <tr>\n",
       "      <th>10</th>\n",
       "      <td>PART</td>\n",
       "      <td>7318</td>\n",
       "      <td>2946</td>\n",
       "    </tr>\n",
       "    <tr>\n",
       "      <th>11</th>\n",
       "      <td>PRON</td>\n",
       "      <td>5089</td>\n",
       "      <td>4095</td>\n",
       "    </tr>\n",
       "    <tr>\n",
       "      <th>12</th>\n",
       "      <td>PROPN</td>\n",
       "      <td>266776</td>\n",
       "      <td>221858</td>\n",
       "    </tr>\n",
       "    <tr>\n",
       "      <th>13</th>\n",
       "      <td>PUNCT</td>\n",
       "      <td>117292</td>\n",
       "      <td>169729</td>\n",
       "    </tr>\n",
       "    <tr>\n",
       "      <th>14</th>\n",
       "      <td>SCONJ</td>\n",
       "      <td>3182</td>\n",
       "      <td>1324</td>\n",
       "    </tr>\n",
       "    <tr>\n",
       "      <th>15</th>\n",
       "      <td>SYM</td>\n",
       "      <td>4461</td>\n",
       "      <td>3278</td>\n",
       "    </tr>\n",
       "    <tr>\n",
       "      <th>16</th>\n",
       "      <td>VERB</td>\n",
       "      <td>69458</td>\n",
       "      <td>53079</td>\n",
       "    </tr>\n",
       "    <tr>\n",
       "      <th>17</th>\n",
       "      <td>X</td>\n",
       "      <td>1500</td>\n",
       "      <td>2419</td>\n",
       "    </tr>\n",
       "  </tbody>\n",
       "</table>\n",
       "</div>"
      ],
      "text/plain": [
       "       14 Publications_Total_above_zero Publications_Total_below_zero_updated\n",
       "1     ADJ                        151964                                149102\n",
       "2     ADP                        208411                                223894\n",
       "3     ADV                          7060                                  6354\n",
       "4     AUX                          4339                                  2213\n",
       "5   CCONJ                         49568                                 53428\n",
       "6     DET                         77244                                 77019\n",
       "7    INTJ                           132                                   129\n",
       "8    NOUN                        442375                                514413\n",
       "9     NUM                         13172                                 15566\n",
       "10   PART                          7318                                  2946\n",
       "11   PRON                          5089                                  4095\n",
       "12  PROPN                        266776                                221858\n",
       "13  PUNCT                        117292                                169729\n",
       "14  SCONJ                          3182                                  1324\n",
       "15    SYM                          4461                                  3278\n",
       "16   VERB                         69458                                 53079\n",
       "17      X                          1500                                  2419"
      ]
     },
     "execution_count": 287,
     "metadata": {},
     "output_type": "execute_result"
    }
   ],
   "source": [
    "publications_above_zero_count.loc['Publications_Total_above_zero'].reset_index().merge(publications_below_zero_count.loc['Publications_Total_below_zero_updated'].reset_index(),on=14)[1:]"
   ]
  },
  {
   "cell_type": "code",
   "execution_count": 289,
   "metadata": {},
   "outputs": [
    {
     "data": {
      "text/plain": [
       "99779"
      ]
     },
     "execution_count": 289,
     "metadata": {},
     "output_type": "execute_result"
    }
   ],
   "source": [
    "patents_above_zero_count[0].nunique()"
   ]
  },
  {
   "cell_type": "code",
   "execution_count": 291,
   "metadata": {},
   "outputs": [],
   "source": [
    "patents_below_zero_count = patents_below_zero_count.head(99779)\n",
    "\n",
    "patents_below_zero_count.loc['Patents_Total_below_zero_updated',:]= patents_below_zero_count.sum(axis=0)"
   ]
  },
  {
   "cell_type": "code",
   "execution_count": 293,
   "metadata": {},
   "outputs": [
    {
     "data": {
      "text/html": [
       "<div>\n",
       "<style scoped>\n",
       "    .dataframe tbody tr th:only-of-type {\n",
       "        vertical-align: middle;\n",
       "    }\n",
       "\n",
       "    .dataframe tbody tr th {\n",
       "        vertical-align: top;\n",
       "    }\n",
       "\n",
       "    .dataframe thead th {\n",
       "        text-align: right;\n",
       "    }\n",
       "</style>\n",
       "<table border=\"1\" class=\"dataframe\">\n",
       "  <thead>\n",
       "    <tr style=\"text-align: right;\">\n",
       "      <th></th>\n",
       "      <th>14</th>\n",
       "      <th>Patents_Total_above_zero</th>\n",
       "      <th>Patents_Total_below_zero_updated</th>\n",
       "    </tr>\n",
       "  </thead>\n",
       "  <tbody>\n",
       "    <tr>\n",
       "      <th>1</th>\n",
       "      <td>ADJ</td>\n",
       "      <td>82625</td>\n",
       "      <td>94427</td>\n",
       "    </tr>\n",
       "    <tr>\n",
       "      <th>2</th>\n",
       "      <td>ADP</td>\n",
       "      <td>82508</td>\n",
       "      <td>88649</td>\n",
       "    </tr>\n",
       "    <tr>\n",
       "      <th>3</th>\n",
       "      <td>ADV</td>\n",
       "      <td>7838</td>\n",
       "      <td>7850</td>\n",
       "    </tr>\n",
       "    <tr>\n",
       "      <th>4</th>\n",
       "      <td>AUX</td>\n",
       "      <td>615</td>\n",
       "      <td>714</td>\n",
       "    </tr>\n",
       "    <tr>\n",
       "      <th>5</th>\n",
       "      <td>CCONJ</td>\n",
       "      <td>28257</td>\n",
       "      <td>35275</td>\n",
       "    </tr>\n",
       "    <tr>\n",
       "      <th>6</th>\n",
       "      <td>DET</td>\n",
       "      <td>26923</td>\n",
       "      <td>30702</td>\n",
       "    </tr>\n",
       "    <tr>\n",
       "      <th>7</th>\n",
       "      <td>INTJ</td>\n",
       "      <td>140</td>\n",
       "      <td>72</td>\n",
       "    </tr>\n",
       "    <tr>\n",
       "      <th>8</th>\n",
       "      <td>NOUN</td>\n",
       "      <td>340186</td>\n",
       "      <td>377478</td>\n",
       "    </tr>\n",
       "    <tr>\n",
       "      <th>9</th>\n",
       "      <td>NUM</td>\n",
       "      <td>4099</td>\n",
       "      <td>2793</td>\n",
       "    </tr>\n",
       "    <tr>\n",
       "      <th>10</th>\n",
       "      <td>PART</td>\n",
       "      <td>1205</td>\n",
       "      <td>1723</td>\n",
       "    </tr>\n",
       "    <tr>\n",
       "      <th>11</th>\n",
       "      <td>PRON</td>\n",
       "      <td>2622</td>\n",
       "      <td>1996</td>\n",
       "    </tr>\n",
       "    <tr>\n",
       "      <th>12</th>\n",
       "      <td>PROPN</td>\n",
       "      <td>20164</td>\n",
       "      <td>16980</td>\n",
       "    </tr>\n",
       "    <tr>\n",
       "      <th>13</th>\n",
       "      <td>PUNCT</td>\n",
       "      <td>24420</td>\n",
       "      <td>23119</td>\n",
       "    </tr>\n",
       "    <tr>\n",
       "      <th>14</th>\n",
       "      <td>SCONJ</td>\n",
       "      <td>1675</td>\n",
       "      <td>1259</td>\n",
       "    </tr>\n",
       "    <tr>\n",
       "      <th>15</th>\n",
       "      <td>SPACE</td>\n",
       "      <td>0</td>\n",
       "      <td>1</td>\n",
       "    </tr>\n",
       "    <tr>\n",
       "      <th>16</th>\n",
       "      <td>SYM</td>\n",
       "      <td>861</td>\n",
       "      <td>1466</td>\n",
       "    </tr>\n",
       "    <tr>\n",
       "      <th>17</th>\n",
       "      <td>VERB</td>\n",
       "      <td>67118</td>\n",
       "      <td>76209</td>\n",
       "    </tr>\n",
       "    <tr>\n",
       "      <th>18</th>\n",
       "      <td>X</td>\n",
       "      <td>737</td>\n",
       "      <td>268</td>\n",
       "    </tr>\n",
       "  </tbody>\n",
       "</table>\n",
       "</div>"
      ],
      "text/plain": [
       "       14 Patents_Total_above_zero Patents_Total_below_zero_updated\n",
       "1     ADJ                    82625                            94427\n",
       "2     ADP                    82508                            88649\n",
       "3     ADV                     7838                             7850\n",
       "4     AUX                      615                              714\n",
       "5   CCONJ                    28257                            35275\n",
       "6     DET                    26923                            30702\n",
       "7    INTJ                      140                               72\n",
       "8    NOUN                   340186                           377478\n",
       "9     NUM                     4099                             2793\n",
       "10   PART                     1205                             1723\n",
       "11   PRON                     2622                             1996\n",
       "12  PROPN                    20164                            16980\n",
       "13  PUNCT                    24420                            23119\n",
       "14  SCONJ                     1675                             1259\n",
       "15  SPACE                        0                                1\n",
       "16    SYM                      861                             1466\n",
       "17   VERB                    67118                            76209\n",
       "18      X                      737                              268"
      ]
     },
     "execution_count": 293,
     "metadata": {},
     "output_type": "execute_result"
    }
   ],
   "source": [
    "patents_above_zero_count.loc['Patents_Total_above_zero'].reset_index().merge(patents_below_zero_count.loc['Patents_Total_below_zero_updated'].reset_index(),on=14)[1:]"
   ]
  },
  {
   "cell_type": "markdown",
   "metadata": {},
   "source": [
    "### Dependency tree"
   ]
  },
  {
   "cell_type": "code",
   "execution_count": 1,
   "metadata": {},
   "outputs": [
    {
     "name": "stdout",
     "output_type": "stream",
     "text": [
      "            regulator_NN                                \n",
      "      ___________|_______________________                \n",
      "     |           |                    with_IN           \n",
      "     |           |                       |               \n",
      "     |           |                   driver_NN          \n",
      "     |           |             __________|_________      \n",
      "Failsafe_JJ  voltage_NN  warning_VBG           signal_NN\n",
      "\n"
     ]
    },
    {
     "data": {
      "text/plain": [
       "[None]"
      ]
     },
     "execution_count": 1,
     "metadata": {},
     "output_type": "execute_result"
    }
   ],
   "source": [
    "import spacy\n",
    "from nltk import Tree\n",
    "\n",
    "en_nlp = spacy.load('en_core_web_lg')\n",
    "\n",
    "doc = en_nlp(\"Failsafe voltage regulator with warning signal driver\")\n",
    "\n",
    "def tok_format(tok):\n",
    "    return \"_\".join([tok.orth_, tok.tag_])\n",
    "\n",
    "def to_nltk_tree(node):\n",
    "    if node.n_lefts + node.n_rights > 0:\n",
    "        return Tree(tok_format(node), [to_nltk_tree(child) for child in node.children])\n",
    "    else:\n",
    "        return tok_format(node)\n",
    "    \n",
    "[to_nltk_tree(sent.root).pretty_print() for sent in doc.sents]"
   ]
  },
  {
   "cell_type": "code",
   "execution_count": 295,
   "metadata": {},
   "outputs": [
    {
     "data": {
      "text/plain": [
       "'NOUN'"
      ]
     },
     "execution_count": 295,
     "metadata": {},
     "output_type": "execute_result"
    }
   ],
   "source": [
    "pd.DataFrame(doc.print_tree())['POS_coarse'].values[0]"
   ]
  },
  {
   "cell_type": "code",
   "execution_count": null,
   "metadata": {},
   "outputs": [],
   "source": [
    "titles = pd.read_csv('document_attributes_titles_abstracts.csv',error_bad_lines=False,header=None)"
   ]
  },
  {
   "cell_type": "code",
   "execution_count": 298,
   "metadata": {},
   "outputs": [],
   "source": [
    "def get_root(row):\n",
    "    for i in row:\n",
    "        doc = en_nlp(i)\n",
    "    return pd.DataFrame(doc.print_tree())['POS_coarse'].values[0]"
   ]
  },
  {
   "cell_type": "code",
   "execution_count": null,
   "metadata": {},
   "outputs": [],
   "source": []
  }
 ],
 "metadata": {
  "hide_input": false,
  "kernelspec": {
   "display_name": "Python 3",
   "language": "python",
   "name": "python3"
  },
  "language_info": {
   "codemirror_mode": {
    "name": "ipython",
    "version": 3
   },
   "file_extension": ".py",
   "mimetype": "text/x-python",
   "name": "python",
   "nbconvert_exporter": "python",
   "pygments_lexer": "ipython3",
   "version": "3.6.7"
  },
  "toc": {
   "base_numbering": 1,
   "nav_menu": {},
   "number_sections": true,
   "sideBar": true,
   "skip_h1_title": false,
   "title_cell": "Table of Contents",
   "title_sidebar": "Contents",
   "toc_cell": true,
   "toc_position": {
    "height": "calc(100% - 180px)",
    "left": "10px",
    "top": "150px",
    "width": "165px"
   },
   "toc_section_display": true,
   "toc_window_display": false
  },
  "varInspector": {
   "cols": {
    "lenName": 16,
    "lenType": 16,
    "lenVar": 40
   },
   "kernels_config": {
    "python": {
     "delete_cmd_postfix": "",
     "delete_cmd_prefix": "del ",
     "library": "var_list.py",
     "varRefreshCmd": "print(var_dic_list())"
    },
    "r": {
     "delete_cmd_postfix": ") ",
     "delete_cmd_prefix": "rm(",
     "library": "var_list.r",
     "varRefreshCmd": "cat(var_dic_list()) "
    }
   },
   "types_to_exclude": [
    "module",
    "function",
    "builtin_function_or_method",
    "instance",
    "_Feature"
   ],
   "window_display": true
  }
 },
 "nbformat": 4,
 "nbformat_minor": 2
}
