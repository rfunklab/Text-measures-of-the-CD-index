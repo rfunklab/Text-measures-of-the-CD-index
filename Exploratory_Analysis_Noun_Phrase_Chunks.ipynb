{
 "cells": [
  {
   "cell_type": "markdown",
   "metadata": {},
   "source": [
    "## Python Setup"
   ]
  },
  {
   "cell_type": "code",
   "execution_count": 1,
   "metadata": {
    "ExecuteTime": {
     "end_time": "2019-10-08T13:52:01.736619Z",
     "start_time": "2019-10-08T13:52:00.632638Z"
    }
   },
   "outputs": [],
   "source": [
    "import pandas as pd\n",
    "import spacy\n",
    "\n",
    "nlp = spacy.load(\"en_core_web_lg\")  # load a large model\n",
    "\n",
    "pd.reset_option('display.max_colwidth')"
   ]
  },
  {
   "cell_type": "code",
   "execution_count": 23,
   "metadata": {},
   "outputs": [],
   "source": [
    "def chunk_text(row):\n",
    "    doc = nlp(row)\n",
    "    for chunk in doc.noun_chunks:\n",
    "        return chunk.text\n",
    "    \n",
    "def chunk_root(row):\n",
    "    doc = nlp(row)\n",
    "    for chunk in doc.noun_chunks:\n",
    "        return chunk.root.text\n",
    "    \n",
    "def chunk_root_dep(row):\n",
    "    doc = nlp(row)\n",
    "    for chunk in doc.noun_chunks:\n",
    "        return chunk.root.dep_\n",
    "\n",
    "def chunk_root_head_text(row):\n",
    "    doc = nlp(row)\n",
    "    for chunk in doc.noun_chunks:\n",
    "        return chunk.root.head.text"
   ]
  },
  {
   "cell_type": "code",
   "execution_count": 46,
   "metadata": {},
   "outputs": [],
   "source": [
    "patents = patents.head(5000)"
   ]
  },
  {
   "cell_type": "code",
   "execution_count": 40,
   "metadata": {},
   "outputs": [],
   "source": [
    "patents = patents[[4,10]]"
   ]
  },
  {
   "cell_type": "code",
   "execution_count": 48,
   "metadata": {},
   "outputs": [],
   "source": [
    "patents['chunk_text'] = patents[4].apply(chunk_text)\n",
    "\n",
    "patents['chunk_root'] = patents[4].apply(chunk_root)\n",
    "\n",
    "patents['chunk_root_dep'] = patents[4].apply(chunk_root_dep)\n",
    "\n",
    "patents['chunk_root_head_text'] = patents[4].apply(chunk_root_head_text)"
   ]
  },
  {
   "cell_type": "code",
   "execution_count": 52,
   "metadata": {},
   "outputs": [
    {
     "data": {
      "text/html": [
       "<div>\n",
       "<style scoped>\n",
       "    .dataframe tbody tr th:only-of-type {\n",
       "        vertical-align: middle;\n",
       "    }\n",
       "\n",
       "    .dataframe tbody tr th {\n",
       "        vertical-align: top;\n",
       "    }\n",
       "\n",
       "    .dataframe thead th {\n",
       "        text-align: right;\n",
       "    }\n",
       "</style>\n",
       "<table border=\"1\" class=\"dataframe\">\n",
       "  <thead>\n",
       "    <tr style=\"text-align: right;\">\n",
       "      <th></th>\n",
       "      <th>4</th>\n",
       "      <th>10</th>\n",
       "      <th>chunk_text</th>\n",
       "      <th>chunk_root</th>\n",
       "      <th>chunk_root_dep</th>\n",
       "      <th>chunk_root_head_text</th>\n",
       "    </tr>\n",
       "  </thead>\n",
       "  <tbody>\n",
       "    <tr>\n",
       "      <th>962864</th>\n",
       "      <td>Failsafe voltage regulator with warning signal...</td>\n",
       "      <td>0.140127</td>\n",
       "      <td>Failsafe voltage regulator</td>\n",
       "      <td>regulator</td>\n",
       "      <td>ROOT</td>\n",
       "      <td>regulator</td>\n",
       "    </tr>\n",
       "    <tr>\n",
       "      <th>962865</th>\n",
       "      <td>Snowboard boot with liner harness</td>\n",
       "      <td>-0.0802676</td>\n",
       "      <td>Snowboard boot</td>\n",
       "      <td>boot</td>\n",
       "      <td>ROOT</td>\n",
       "      <td>boot</td>\n",
       "    </tr>\n",
       "    <tr>\n",
       "      <th>962866</th>\n",
       "      <td>Solid ink compositions comprising amorphous es...</td>\n",
       "      <td>-0.0203046</td>\n",
       "      <td>Solid ink compositions</td>\n",
       "      <td>compositions</td>\n",
       "      <td>ROOT</td>\n",
       "      <td>compositions</td>\n",
       "    </tr>\n",
       "    <tr>\n",
       "      <th>962867</th>\n",
       "      <td>Dripless closure</td>\n",
       "      <td>1</td>\n",
       "      <td>Dripless closure</td>\n",
       "      <td>closure</td>\n",
       "      <td>ROOT</td>\n",
       "      <td>closure</td>\n",
       "    </tr>\n",
       "    <tr>\n",
       "      <th>962868</th>\n",
       "      <td>Multi-outlet electrical socket boxes</td>\n",
       "      <td>0.15873</td>\n",
       "      <td>Multi-outlet electrical socket boxes</td>\n",
       "      <td>boxes</td>\n",
       "      <td>ROOT</td>\n",
       "      <td>boxes</td>\n",
       "    </tr>\n",
       "  </tbody>\n",
       "</table>\n",
       "</div>"
      ],
      "text/plain": [
       "                                                        4          10  \\\n",
       "962864  Failsafe voltage regulator with warning signal...    0.140127   \n",
       "962865                  Snowboard boot with liner harness  -0.0802676   \n",
       "962866  Solid ink compositions comprising amorphous es...  -0.0203046   \n",
       "962867                                   Dripless closure           1   \n",
       "962868               Multi-outlet electrical socket boxes     0.15873   \n",
       "\n",
       "                                  chunk_text    chunk_root chunk_root_dep  \\\n",
       "962864            Failsafe voltage regulator     regulator           ROOT   \n",
       "962865                        Snowboard boot          boot           ROOT   \n",
       "962866                Solid ink compositions  compositions           ROOT   \n",
       "962867                      Dripless closure       closure           ROOT   \n",
       "962868  Multi-outlet electrical socket boxes         boxes           ROOT   \n",
       "\n",
       "       chunk_root_head_text  \n",
       "962864            regulator  \n",
       "962865                 boot  \n",
       "962866         compositions  \n",
       "962867              closure  \n",
       "962868                boxes  "
      ]
     },
     "execution_count": 52,
     "metadata": {},
     "output_type": "execute_result"
    }
   ],
   "source": [
    "patents.head()"
   ]
  },
  {
   "cell_type": "code",
   "execution_count": 53,
   "metadata": {},
   "outputs": [],
   "source": [
    "publications = publications.head(5000)"
   ]
  },
  {
   "cell_type": "code",
   "execution_count": 54,
   "metadata": {},
   "outputs": [],
   "source": [
    "publications = publications[[4,10]]"
   ]
  },
  {
   "cell_type": "code",
   "execution_count": 55,
   "metadata": {},
   "outputs": [],
   "source": [
    "publications['chunk_text'] = publications[4].apply(chunk_text)"
   ]
  },
  {
   "cell_type": "code",
   "execution_count": 56,
   "metadata": {},
   "outputs": [],
   "source": [
    "publications['chunk_root'] = publications[4].apply(chunk_root)"
   ]
  },
  {
   "cell_type": "code",
   "execution_count": 57,
   "metadata": {},
   "outputs": [],
   "source": [
    "publications['chunk_root_dep'] = publications[4].apply(chunk_root_dep)"
   ]
  },
  {
   "cell_type": "code",
   "execution_count": 58,
   "metadata": {},
   "outputs": [],
   "source": [
    "publications['chunk_root_head_text'] = publications[4].apply(chunk_root_head_text)"
   ]
  },
  {
   "cell_type": "code",
   "execution_count": 59,
   "metadata": {},
   "outputs": [
    {
     "data": {
      "text/html": [
       "<div>\n",
       "<style scoped>\n",
       "    .dataframe tbody tr th:only-of-type {\n",
       "        vertical-align: middle;\n",
       "    }\n",
       "\n",
       "    .dataframe tbody tr th {\n",
       "        vertical-align: top;\n",
       "    }\n",
       "\n",
       "    .dataframe thead th {\n",
       "        text-align: right;\n",
       "    }\n",
       "</style>\n",
       "<table border=\"1\" class=\"dataframe\">\n",
       "  <thead>\n",
       "    <tr style=\"text-align: right;\">\n",
       "      <th></th>\n",
       "      <th>4</th>\n",
       "      <th>10</th>\n",
       "      <th>chunk_text</th>\n",
       "      <th>chunk_root</th>\n",
       "      <th>chunk_root_dep</th>\n",
       "      <th>chunk_root_head_text</th>\n",
       "    </tr>\n",
       "  </thead>\n",
       "  <tbody>\n",
       "    <tr>\n",
       "      <th>0</th>\n",
       "      <td>On separation of energies in viscoelasticity</td>\n",
       "      <td>0.006172839506172839</td>\n",
       "      <td>separation</td>\n",
       "      <td>separation</td>\n",
       "      <td>pobj</td>\n",
       "      <td>On</td>\n",
       "    </tr>\n",
       "    <tr>\n",
       "      <th>1</th>\n",
       "      <td>Catalytic reduction of N2O and NO2 with methan...</td>\n",
       "      <td>0.006631299734748011</td>\n",
       "      <td>Catalytic reduction</td>\n",
       "      <td>reduction</td>\n",
       "      <td>ROOT</td>\n",
       "      <td>reduction</td>\n",
       "    </tr>\n",
       "    <tr>\n",
       "      <th>2</th>\n",
       "      <td>Eucaryotic cells protect Borrelia burgdorferi ...</td>\n",
       "      <td>-0.030100334448160536</td>\n",
       "      <td>Eucaryotic cells</td>\n",
       "      <td>cells</td>\n",
       "      <td>nsubj</td>\n",
       "      <td>protect</td>\n",
       "    </tr>\n",
       "    <tr>\n",
       "      <th>3</th>\n",
       "      <td>Real-time quantitative PCR detection of WT1 ge...</td>\n",
       "      <td>-0.003962289930318349</td>\n",
       "      <td>Real-time quantitative PCR detection</td>\n",
       "      <td>detection</td>\n",
       "      <td>ROOT</td>\n",
       "      <td>detection</td>\n",
       "    </tr>\n",
       "    <tr>\n",
       "      <th>4</th>\n",
       "      <td>Does safety climate moderate the influence of ...</td>\n",
       "      <td>-0.003911024199462234</td>\n",
       "      <td>safety climate</td>\n",
       "      <td>climate</td>\n",
       "      <td>nsubj</td>\n",
       "      <td>moderate</td>\n",
       "    </tr>\n",
       "  </tbody>\n",
       "</table>\n",
       "</div>"
      ],
      "text/plain": [
       "                                                   4                     10  \\\n",
       "0       On separation of energies in viscoelasticity   0.006172839506172839   \n",
       "1  Catalytic reduction of N2O and NO2 with methan...   0.006631299734748011   \n",
       "2  Eucaryotic cells protect Borrelia burgdorferi ...  -0.030100334448160536   \n",
       "3  Real-time quantitative PCR detection of WT1 ge...  -0.003962289930318349   \n",
       "4  Does safety climate moderate the influence of ...  -0.003911024199462234   \n",
       "\n",
       "                             chunk_text  chunk_root chunk_root_dep  \\\n",
       "0                            separation  separation           pobj   \n",
       "1                   Catalytic reduction   reduction           ROOT   \n",
       "2                      Eucaryotic cells       cells          nsubj   \n",
       "3  Real-time quantitative PCR detection   detection           ROOT   \n",
       "4                        safety climate     climate          nsubj   \n",
       "\n",
       "  chunk_root_head_text  \n",
       "0                   On  \n",
       "1            reduction  \n",
       "2              protect  \n",
       "3            detection  \n",
       "4             moderate  "
      ]
     },
     "execution_count": 59,
     "metadata": {},
     "output_type": "execute_result"
    }
   ],
   "source": [
    "publications.head()"
   ]
  },
  {
   "cell_type": "code",
   "execution_count": 60,
   "metadata": {},
   "outputs": [],
   "source": [
    "patents = titles[titles[1].str.startswith('u')]\n",
    "publications = titles[titles[1].str.startswith('a')]"
   ]
  },
  {
   "cell_type": "code",
   "execution_count": 61,
   "metadata": {},
   "outputs": [],
   "source": [
    "patents_above_zero = patents[patents[10] > '0.5']\n",
    "patents_below_zero = patents[patents[10] < '0.5']"
   ]
  },
  {
   "cell_type": "code",
   "execution_count": 62,
   "metadata": {},
   "outputs": [],
   "source": [
    "publications_above_zero = publications[publications[10] > '0.5']\n",
    "publications_below_zero = publications[publications[10] < '0.5']"
   ]
  },
  {
   "cell_type": "code",
   "execution_count": 66,
   "metadata": {},
   "outputs": [],
   "source": [
    "patents_above_zero = patents_above_zero[[4,10]]\n",
    "patents_below_zero = patents_below_zero[[4,10]]\n",
    "publications_above_zero = publications_above_zero[[4,10]]\n",
    "publications_below_zero = publications_below_zero[[4,10]]"
   ]
  },
  {
   "cell_type": "code",
   "execution_count": 69,
   "metadata": {},
   "outputs": [],
   "source": [
    "patents_above_zero = patents_above_zero.head(5000)\n",
    "patents_below_zero = patents_below_zero.head(5000)\n",
    "publications_above_zero = publications_above_zero.head(5000)\n",
    "publications_below_zero = publications_below_zero.head(5000)"
   ]
  },
  {
   "cell_type": "code",
   "execution_count": 70,
   "metadata": {},
   "outputs": [],
   "source": [
    "patents_above_zero['chunk_text'] = patents_above_zero[4].apply(chunk_text)\n",
    "\n",
    "patents_above_zero['chunk_root'] = patents_above_zero[4].apply(chunk_root)\n",
    "\n",
    "patents_above_zero['chunk_root_dep'] = patents_above_zero[4].apply(chunk_root_dep)\n",
    "\n",
    "patents_above_zero['chunk_root_head_text'] = patents_above_zero[4].apply(chunk_root_head_text)"
   ]
  },
  {
   "cell_type": "code",
   "execution_count": 71,
   "metadata": {},
   "outputs": [],
   "source": [
    "patents_below_zero['chunk_text'] = patents_below_zero[4].apply(chunk_text)\n",
    "\n",
    "patents_below_zero['chunk_root'] = patents_below_zero[4].apply(chunk_root)\n",
    "\n",
    "patents_below_zero['chunk_root_dep'] = patents_below_zero[4].apply(chunk_root_dep)\n",
    "\n",
    "patents_below_zero['chunk_root_head_text'] = patents_below_zero[4].apply(chunk_root_head_text)"
   ]
  },
  {
   "cell_type": "code",
   "execution_count": 72,
   "metadata": {},
   "outputs": [],
   "source": [
    "publications_above_zero['chunk_text'] = publications_above_zero[4].apply(chunk_text)\n",
    "\n",
    "publications_above_zero['chunk_root'] = publications_above_zero[4].apply(chunk_root)\n",
    "\n",
    "publications_above_zero['chunk_root_dep'] = publications_above_zero[4].apply(chunk_root_dep)\n",
    "\n",
    "publications_above_zero['chunk_root_head_text'] = publications_above_zero[4].apply(chunk_root_head_text)"
   ]
  },
  {
   "cell_type": "code",
   "execution_count": 85,
   "metadata": {},
   "outputs": [],
   "source": [
    "publications_below_zero['chunk_text'] = publications_below_zero[4].apply(chunk_text)\n",
    "\n",
    "publications_below_zero['chunk_root'] = publications_below_zero[4].apply(chunk_root)\n",
    "\n",
    "publications_below_zero['chunk_root_dep'] = publications_below_zero[4].apply(chunk_root_dep)\n",
    "\n",
    "publications_below_zero['chunk_root_head_text'] = publications_below_zero[4].apply(chunk_root_head_text)"
   ]
  },
  {
   "cell_type": "code",
   "execution_count": 74,
   "metadata": {},
   "outputs": [
    {
     "data": {
      "text/html": [
       "<div>\n",
       "<style scoped>\n",
       "    .dataframe tbody tr th:only-of-type {\n",
       "        vertical-align: middle;\n",
       "    }\n",
       "\n",
       "    .dataframe tbody tr th {\n",
       "        vertical-align: top;\n",
       "    }\n",
       "\n",
       "    .dataframe thead th {\n",
       "        text-align: right;\n",
       "    }\n",
       "</style>\n",
       "<table border=\"1\" class=\"dataframe\">\n",
       "  <thead>\n",
       "    <tr style=\"text-align: right;\">\n",
       "      <th></th>\n",
       "      <th>4</th>\n",
       "      <th>10</th>\n",
       "      <th>chunk_text</th>\n",
       "      <th>chunk_root</th>\n",
       "      <th>chunk_root_dep</th>\n",
       "      <th>chunk_root_head_text</th>\n",
       "    </tr>\n",
       "  </thead>\n",
       "  <tbody>\n",
       "    <tr>\n",
       "      <th>962867</th>\n",
       "      <td>Dripless closure</td>\n",
       "      <td>1</td>\n",
       "      <td>Dripless closure</td>\n",
       "      <td>closure</td>\n",
       "      <td>ROOT</td>\n",
       "      <td>closure</td>\n",
       "    </tr>\n",
       "    <tr>\n",
       "      <th>962879</th>\n",
       "      <td>Link arm suspension</td>\n",
       "      <td>1</td>\n",
       "      <td>Link arm suspension</td>\n",
       "      <td>suspension</td>\n",
       "      <td>ROOT</td>\n",
       "      <td>suspension</td>\n",
       "    </tr>\n",
       "    <tr>\n",
       "      <th>962885</th>\n",
       "      <td>Writing instrument barrel including a painted ...</td>\n",
       "      <td>\\N</td>\n",
       "      <td>instrument barrel</td>\n",
       "      <td>barrel</td>\n",
       "      <td>dobj</td>\n",
       "      <td>Writing</td>\n",
       "    </tr>\n",
       "    <tr>\n",
       "      <th>962887</th>\n",
       "      <td>Garment shield with removable outer portions</td>\n",
       "      <td>1</td>\n",
       "      <td>Garment shield</td>\n",
       "      <td>shield</td>\n",
       "      <td>ROOT</td>\n",
       "      <td>shield</td>\n",
       "    </tr>\n",
       "    <tr>\n",
       "      <th>962888</th>\n",
       "      <td>Device for treating dental castings</td>\n",
       "      <td>0.55814</td>\n",
       "      <td>Device</td>\n",
       "      <td>Device</td>\n",
       "      <td>ROOT</td>\n",
       "      <td>Device</td>\n",
       "    </tr>\n",
       "  </tbody>\n",
       "</table>\n",
       "</div>"
      ],
      "text/plain": [
       "                                                        4       10  \\\n",
       "962867                                   Dripless closure        1   \n",
       "962879                                Link arm suspension        1   \n",
       "962885  Writing instrument barrel including a painted ...       \\N   \n",
       "962887       Garment shield with removable outer portions        1   \n",
       "962888                Device for treating dental castings  0.55814   \n",
       "\n",
       "                 chunk_text  chunk_root chunk_root_dep chunk_root_head_text  \n",
       "962867     Dripless closure     closure           ROOT              closure  \n",
       "962879  Link arm suspension  suspension           ROOT           suspension  \n",
       "962885    instrument barrel      barrel           dobj              Writing  \n",
       "962887       Garment shield      shield           ROOT               shield  \n",
       "962888               Device      Device           ROOT               Device  "
      ]
     },
     "execution_count": 74,
     "metadata": {},
     "output_type": "execute_result"
    }
   ],
   "source": [
    "patents_above_zero.head()"
   ]
  },
  {
   "cell_type": "code",
   "execution_count": 82,
   "metadata": {},
   "outputs": [
    {
     "data": {
      "text/html": [
       "<div>\n",
       "<style scoped>\n",
       "    .dataframe tbody tr th:only-of-type {\n",
       "        vertical-align: middle;\n",
       "    }\n",
       "\n",
       "    .dataframe tbody tr th {\n",
       "        vertical-align: top;\n",
       "    }\n",
       "\n",
       "    .dataframe thead th {\n",
       "        text-align: right;\n",
       "    }\n",
       "</style>\n",
       "<table border=\"1\" class=\"dataframe\">\n",
       "  <thead>\n",
       "    <tr style=\"text-align: right;\">\n",
       "      <th></th>\n",
       "      <th>chunk_root</th>\n",
       "      <th>0</th>\n",
       "    </tr>\n",
       "  </thead>\n",
       "  <tbody>\n",
       "    <tr>\n",
       "      <th>273</th>\n",
       "      <td>Method</td>\n",
       "      <td>457</td>\n",
       "    </tr>\n",
       "    <tr>\n",
       "      <th>794</th>\n",
       "      <td>device</td>\n",
       "      <td>228</td>\n",
       "    </tr>\n",
       "    <tr>\n",
       "      <th>545</th>\n",
       "      <td>apparatus</td>\n",
       "      <td>214</td>\n",
       "    </tr>\n",
       "    <tr>\n",
       "      <th>1482</th>\n",
       "      <td>system</td>\n",
       "      <td>197</td>\n",
       "    </tr>\n",
       "    <tr>\n",
       "      <th>341</th>\n",
       "      <td>Process</td>\n",
       "      <td>185</td>\n",
       "    </tr>\n",
       "    <tr>\n",
       "      <th>31</th>\n",
       "      <td>Apparatus</td>\n",
       "      <td>156</td>\n",
       "    </tr>\n",
       "    <tr>\n",
       "      <th>1109</th>\n",
       "      <td>method</td>\n",
       "      <td>102</td>\n",
       "    </tr>\n",
       "    <tr>\n",
       "      <th>785</th>\n",
       "      <td>derivatives</td>\n",
       "      <td>76</td>\n",
       "    </tr>\n",
       "    <tr>\n",
       "      <th>563</th>\n",
       "      <td>assembly</td>\n",
       "      <td>69</td>\n",
       "    </tr>\n",
       "    <tr>\n",
       "      <th>720</th>\n",
       "      <td>composition</td>\n",
       "      <td>62</td>\n",
       "    </tr>\n",
       "  </tbody>\n",
       "</table>\n",
       "</div>"
      ],
      "text/plain": [
       "       chunk_root    0\n",
       "273        Method  457\n",
       "794        device  228\n",
       "545     apparatus  214\n",
       "1482       system  197\n",
       "341       Process  185\n",
       "31      Apparatus  156\n",
       "1109       method  102\n",
       "785   derivatives   76\n",
       "563      assembly   69\n",
       "720   composition   62"
      ]
     },
     "execution_count": 82,
     "metadata": {},
     "output_type": "execute_result"
    }
   ],
   "source": [
    "patents_above_zero.groupby('chunk_root').size().reset_index().sort_values(0,ascending=False).head(10)"
   ]
  },
  {
   "cell_type": "code",
   "execution_count": 83,
   "metadata": {},
   "outputs": [
    {
     "data": {
      "text/html": [
       "<div>\n",
       "<style scoped>\n",
       "    .dataframe tbody tr th:only-of-type {\n",
       "        vertical-align: middle;\n",
       "    }\n",
       "\n",
       "    .dataframe tbody tr th {\n",
       "        vertical-align: top;\n",
       "    }\n",
       "\n",
       "    .dataframe thead th {\n",
       "        text-align: right;\n",
       "    }\n",
       "</style>\n",
       "<table border=\"1\" class=\"dataframe\">\n",
       "  <thead>\n",
       "    <tr style=\"text-align: right;\">\n",
       "      <th></th>\n",
       "      <th>chunk_root</th>\n",
       "      <th>0</th>\n",
       "    </tr>\n",
       "  </thead>\n",
       "  <tbody>\n",
       "    <tr>\n",
       "      <th>537</th>\n",
       "      <td>Effect</td>\n",
       "      <td>69</td>\n",
       "    </tr>\n",
       "    <tr>\n",
       "      <th>1747</th>\n",
       "      <td>analysis</td>\n",
       "      <td>52</td>\n",
       "    </tr>\n",
       "    <tr>\n",
       "      <th>539</th>\n",
       "      <td>Effects</td>\n",
       "      <td>51</td>\n",
       "    </tr>\n",
       "    <tr>\n",
       "      <th>2688</th>\n",
       "      <td>study</td>\n",
       "      <td>42</td>\n",
       "    </tr>\n",
       "    <tr>\n",
       "      <th>1526</th>\n",
       "      <td>Synthesis</td>\n",
       "      <td>37</td>\n",
       "    </tr>\n",
       "    <tr>\n",
       "      <th>84</th>\n",
       "      <td>Analysis</td>\n",
       "      <td>37</td>\n",
       "    </tr>\n",
       "    <tr>\n",
       "      <th>451</th>\n",
       "      <td>Development</td>\n",
       "      <td>33</td>\n",
       "    </tr>\n",
       "    <tr>\n",
       "      <th>2336</th>\n",
       "      <td>method</td>\n",
       "      <td>33</td>\n",
       "    </tr>\n",
       "    <tr>\n",
       "      <th>1511</th>\n",
       "      <td>Study</td>\n",
       "      <td>31</td>\n",
       "    </tr>\n",
       "    <tr>\n",
       "      <th>2042</th>\n",
       "      <td>effect</td>\n",
       "      <td>28</td>\n",
       "    </tr>\n",
       "  </tbody>\n",
       "</table>\n",
       "</div>"
      ],
      "text/plain": [
       "       chunk_root   0\n",
       "537        Effect  69\n",
       "1747     analysis  52\n",
       "539       Effects  51\n",
       "2688        study  42\n",
       "1526    Synthesis  37\n",
       "84       Analysis  37\n",
       "451   Development  33\n",
       "2336       method  33\n",
       "1511        Study  31\n",
       "2042       effect  28"
      ]
     },
     "execution_count": 83,
     "metadata": {},
     "output_type": "execute_result"
    }
   ],
   "source": [
    "publications_above_zero.groupby('chunk_root').size().reset_index().sort_values(0,ascending=False).head(10)"
   ]
  },
  {
   "cell_type": "code",
   "execution_count": 84,
   "metadata": {},
   "outputs": [
    {
     "data": {
      "text/html": [
       "<div>\n",
       "<style scoped>\n",
       "    .dataframe tbody tr th:only-of-type {\n",
       "        vertical-align: middle;\n",
       "    }\n",
       "\n",
       "    .dataframe tbody tr th {\n",
       "        vertical-align: top;\n",
       "    }\n",
       "\n",
       "    .dataframe thead th {\n",
       "        text-align: right;\n",
       "    }\n",
       "</style>\n",
       "<table border=\"1\" class=\"dataframe\">\n",
       "  <thead>\n",
       "    <tr style=\"text-align: right;\">\n",
       "      <th></th>\n",
       "      <th>chunk_root</th>\n",
       "      <th>0</th>\n",
       "    </tr>\n",
       "  </thead>\n",
       "  <tbody>\n",
       "    <tr>\n",
       "      <th>231</th>\n",
       "      <td>Method</td>\n",
       "      <td>615</td>\n",
       "    </tr>\n",
       "    <tr>\n",
       "      <th>1307</th>\n",
       "      <td>system</td>\n",
       "      <td>308</td>\n",
       "    </tr>\n",
       "    <tr>\n",
       "      <th>678</th>\n",
       "      <td>device</td>\n",
       "      <td>308</td>\n",
       "    </tr>\n",
       "    <tr>\n",
       "      <th>463</th>\n",
       "      <td>apparatus</td>\n",
       "      <td>247</td>\n",
       "    </tr>\n",
       "    <tr>\n",
       "      <th>20</th>\n",
       "      <td>Apparatus</td>\n",
       "      <td>123</td>\n",
       "    </tr>\n",
       "    <tr>\n",
       "      <th>958</th>\n",
       "      <td>method</td>\n",
       "      <td>102</td>\n",
       "    </tr>\n",
       "    <tr>\n",
       "      <th>367</th>\n",
       "      <td>System</td>\n",
       "      <td>91</td>\n",
       "    </tr>\n",
       "    <tr>\n",
       "      <th>288</th>\n",
       "      <td>Process</td>\n",
       "      <td>80</td>\n",
       "    </tr>\n",
       "    <tr>\n",
       "      <th>232</th>\n",
       "      <td>Methods</td>\n",
       "      <td>77</td>\n",
       "    </tr>\n",
       "    <tr>\n",
       "      <th>483</th>\n",
       "      <td>assembly</td>\n",
       "      <td>73</td>\n",
       "    </tr>\n",
       "  </tbody>\n",
       "</table>\n",
       "</div>"
      ],
      "text/plain": [
       "     chunk_root    0\n",
       "231      Method  615\n",
       "1307     system  308\n",
       "678      device  308\n",
       "463   apparatus  247\n",
       "20    Apparatus  123\n",
       "958      method  102\n",
       "367      System   91\n",
       "288     Process   80\n",
       "232     Methods   77\n",
       "483    assembly   73"
      ]
     },
     "execution_count": 84,
     "metadata": {},
     "output_type": "execute_result"
    }
   ],
   "source": [
    "patents_below_zero.groupby('chunk_root').size().reset_index().sort_values(0,ascending=False).head(10)"
   ]
  },
  {
   "cell_type": "code",
   "execution_count": null,
   "metadata": {},
   "outputs": [],
   "source": []
  }
 ],
 "metadata": {
  "hide_input": false,
  "kernelspec": {
   "display_name": "Python 3",
   "language": "python",
   "name": "python3"
  },
  "language_info": {
   "codemirror_mode": {
    "name": "ipython",
    "version": 3
   },
   "file_extension": ".py",
   "mimetype": "text/x-python",
   "name": "python",
   "nbconvert_exporter": "python",
   "pygments_lexer": "ipython3",
   "version": "3.6.7"
  },
  "toc": {
   "base_numbering": 1,
   "nav_menu": {},
   "number_sections": true,
   "sideBar": true,
   "skip_h1_title": false,
   "title_cell": "Table of Contents",
   "title_sidebar": "Contents",
   "toc_cell": true,
   "toc_position": {
    "height": "calc(100% - 180px)",
    "left": "10px",
    "top": "150px",
    "width": "165px"
   },
   "toc_section_display": true,
   "toc_window_display": false
  },
  "varInspector": {
   "cols": {
    "lenName": 16,
    "lenType": 16,
    "lenVar": 40
   },
   "kernels_config": {
    "python": {
     "delete_cmd_postfix": "",
     "delete_cmd_prefix": "del ",
     "library": "var_list.py",
     "varRefreshCmd": "print(var_dic_list())"
    },
    "r": {
     "delete_cmd_postfix": ") ",
     "delete_cmd_prefix": "rm(",
     "library": "var_list.r",
     "varRefreshCmd": "cat(var_dic_list()) "
    }
   },
   "types_to_exclude": [
    "module",
    "function",
    "builtin_function_or_method",
    "instance",
    "_Feature"
   ],
   "window_display": false
  }
 },
 "nbformat": 4,
 "nbformat_minor": 2
}
