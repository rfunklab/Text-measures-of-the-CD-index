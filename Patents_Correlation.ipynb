{
 "cells": [
  {
   "cell_type": "markdown",
   "metadata": {
    "toc": true
   },
   "source": [
    "<h1>Table of Contents<span class=\"tocSkip\"></span></h1>\n",
    "<div class=\"toc\"><ul class=\"toc-item\"></ul></div>"
   ]
  },
  {
   "cell_type": "code",
   "execution_count": 1,
   "metadata": {},
   "outputs": [],
   "source": [
    "# Import necessary libraries\n",
    "import pandas as pd\n",
    "import matplotlib as plt"
   ]
  },
  {
   "cell_type": "code",
   "execution_count": 27,
   "metadata": {},
   "outputs": [
    {
     "name": "stderr",
     "output_type": "stream",
     "text": [
      "/home/ekaterina/anaconda3/lib/python3.6/site-packages/IPython/core/interactiveshell.py:3020: DtypeWarning: Columns (5) have mixed types. Specify dtype option on import or set low_memory=False.\n",
      "  interactivity=interactivity, compiler=compiler, result=result)\n"
     ]
    }
   ],
   "source": [
    "# Import data\n",
    "data = pd.read_csv('data_patentsview_20200115.csv', header=None, na_values=['\\\\N'])"
   ]
  },
  {
   "cell_type": "code",
   "execution_count": 28,
   "metadata": {},
   "outputs": [],
   "source": [
    "# Map column names\n",
    "column_names = ['patent_id',\n",
    "'application_year',\n",
    "'grant_year',\n",
    "'field_nber_category_id',\n",
    "'field_nber_subcategory_id',\n",
    "'field_wos_research_area',\n",
    "'inventors_total',\n",
    "'inventors_gender_final_male',\n",
    "'inventors_gender_final_female',\n",
    "'inventors_gender_final_unknown',\n",
    "'uspc_csubclasses_new',\n",
    "'uspc_csubclasses_total',\n",
    "'uspc_csubclass_pairs_new',\n",
    "'uspc_csubclass_pairs_total',\n",
    "'cited_total',\n",
    "'cited_self',\n",
    "'cited_self_risk',\n",
    "'cited_age_mean',\n",
    "'cited_age_sd',\n",
    "'absjsdis_nbersub_sp_tok_ttm0',\n",
    "'absjsdis_nbersub_sp_pos_ttm0',\n",
    "'abscodis_nbersub_sp_tok_ttm0',\n",
    "'abscodis_nbersub_sp_pos_ttm0',\n",
    "'absjsdis_nbersub_sp_tok_ttm5',\n",
    "'absjsdis_nbersub_sp_pos_ttm5',\n",
    "'abscodis_nbersub_sp_tok_ttm5',\n",
    "'abscodis_nbersub_sp_pos_ttm5',\n",
    "'abs_sentslen_mean_sp_tok',\n",
    "'abs_sentslen_sd_sp_tok',\n",
    "'abs_nsents_sp_tok',\n",
    "'abs_ncsubjs_sp_tok',\n",
    "'abs_nccomps_sp_tok',\n",
    "'abs_nxcomps_sp_tok',\n",
    "'abs_nadvcls_sp_tok',\n",
    "'abs_nacls_sp_tok',\n",
    "'abs_nlists_sp_tok',\n",
    "'abs_nparataxis_sp_tok',\n",
    "'abs_ntokens_sp_tok',\n",
    "'abs_ntokens_unique_sp_tok',\n",
    "'abs_nnouns_sp_tok',\n",
    "'abs_nadjs_sp_tok',\n",
    "'abs_nverbs_sp_tok',\n",
    "'abs_nadverbs_sp_tok',\n",
    "'abs_tokenslen_mean_sp_tok',\n",
    "'abs_nounslen_mean_sp_tok',\n",
    "'abs_adjslen_mean_sp_tok',\n",
    "'abs_verbslen_mean_sp_tok',\n",
    "'abs_adverbslen_mean_sp_tok',\n",
    "'backward_citations',\n",
    "'cd_5',\n",
    "'mcd_5',\n",
    "'i_5',\n",
    "'cd_10',\n",
    "'mcd_10',\n",
    "'i_10',\n",
    "'cd_2017y',\n",
    "'mcd_2017y',\n",
    "'i_2017y']\n",
    "\n",
    "data.columns = column_names"
   ]
  },
  {
   "cell_type": "code",
   "execution_count": 29,
   "metadata": {},
   "outputs": [
    {
     "data": {
      "text/html": [
       "<div>\n",
       "<style scoped>\n",
       "    .dataframe tbody tr th:only-of-type {\n",
       "        vertical-align: middle;\n",
       "    }\n",
       "\n",
       "    .dataframe tbody tr th {\n",
       "        vertical-align: top;\n",
       "    }\n",
       "\n",
       "    .dataframe thead th {\n",
       "        text-align: right;\n",
       "    }\n",
       "</style>\n",
       "<table border=\"1\" class=\"dataframe\">\n",
       "  <thead>\n",
       "    <tr style=\"text-align: right;\">\n",
       "      <th></th>\n",
       "      <th>patent_id</th>\n",
       "      <th>application_year</th>\n",
       "      <th>grant_year</th>\n",
       "      <th>field_nber_category_id</th>\n",
       "      <th>field_nber_subcategory_id</th>\n",
       "      <th>field_wos_research_area</th>\n",
       "      <th>inventors_total</th>\n",
       "      <th>inventors_gender_final_male</th>\n",
       "      <th>inventors_gender_final_female</th>\n",
       "      <th>inventors_gender_final_unknown</th>\n",
       "      <th>...</th>\n",
       "      <th>backward_citations</th>\n",
       "      <th>cd_5</th>\n",
       "      <th>mcd_5</th>\n",
       "      <th>i_5</th>\n",
       "      <th>cd_10</th>\n",
       "      <th>mcd_10</th>\n",
       "      <th>i_10</th>\n",
       "      <th>cd_2017y</th>\n",
       "      <th>mcd_2017y</th>\n",
       "      <th>i_2017y</th>\n",
       "    </tr>\n",
       "  </thead>\n",
       "  <tbody>\n",
       "    <tr>\n",
       "      <th>0</th>\n",
       "      <td>5164715</td>\n",
       "      <td>1990</td>\n",
       "      <td>1992</td>\n",
       "      <td>2.0</td>\n",
       "      <td>23.0</td>\n",
       "      <td>Technology\\r</td>\n",
       "      <td>5.0</td>\n",
       "      <td>0</td>\n",
       "      <td>0</td>\n",
       "      <td>0</td>\n",
       "      <td>...</td>\n",
       "      <td>3</td>\n",
       "      <td>0.375000</td>\n",
       "      <td>1.125000</td>\n",
       "      <td>3.0</td>\n",
       "      <td>0.350000</td>\n",
       "      <td>2.450000</td>\n",
       "      <td>7.0</td>\n",
       "      <td>0.778409</td>\n",
       "      <td>106.642000</td>\n",
       "      <td>137</td>\n",
       "    </tr>\n",
       "    <tr>\n",
       "      <th>1</th>\n",
       "      <td>5177974</td>\n",
       "      <td>1988</td>\n",
       "      <td>1993</td>\n",
       "      <td>6.0</td>\n",
       "      <td>69.0</td>\n",
       "      <td>Other</td>\n",
       "      <td>4.0</td>\n",
       "      <td>0</td>\n",
       "      <td>0</td>\n",
       "      <td>0</td>\n",
       "      <td>...</td>\n",
       "      <td>6</td>\n",
       "      <td>0.111111</td>\n",
       "      <td>0.222222</td>\n",
       "      <td>2.0</td>\n",
       "      <td>0.066667</td>\n",
       "      <td>0.400000</td>\n",
       "      <td>6.0</td>\n",
       "      <td>0.058824</td>\n",
       "      <td>0.529412</td>\n",
       "      <td>9</td>\n",
       "    </tr>\n",
       "    <tr>\n",
       "      <th>2</th>\n",
       "      <td>5379515</td>\n",
       "      <td>1994</td>\n",
       "      <td>1995</td>\n",
       "      <td>5.0</td>\n",
       "      <td>52.0</td>\n",
       "      <td>Technology\\r</td>\n",
       "      <td>10.0</td>\n",
       "      <td>0</td>\n",
       "      <td>0</td>\n",
       "      <td>0</td>\n",
       "      <td>...</td>\n",
       "      <td>11</td>\n",
       "      <td>0.006024</td>\n",
       "      <td>0.018072</td>\n",
       "      <td>3.0</td>\n",
       "      <td>0.021978</td>\n",
       "      <td>0.263736</td>\n",
       "      <td>12.0</td>\n",
       "      <td>0.020330</td>\n",
       "      <td>0.447268</td>\n",
       "      <td>22</td>\n",
       "    </tr>\n",
       "    <tr>\n",
       "      <th>3</th>\n",
       "      <td>5264790</td>\n",
       "      <td>1991</td>\n",
       "      <td>1993</td>\n",
       "      <td>4.0</td>\n",
       "      <td>43.0</td>\n",
       "      <td>Technology\\r</td>\n",
       "      <td>2.0</td>\n",
       "      <td>0</td>\n",
       "      <td>0</td>\n",
       "      <td>0</td>\n",
       "      <td>...</td>\n",
       "      <td>2</td>\n",
       "      <td>0.555556</td>\n",
       "      <td>2.777780</td>\n",
       "      <td>5.0</td>\n",
       "      <td>0.366667</td>\n",
       "      <td>4.033330</td>\n",
       "      <td>11.0</td>\n",
       "      <td>0.397436</td>\n",
       "      <td>12.320500</td>\n",
       "      <td>31</td>\n",
       "    </tr>\n",
       "    <tr>\n",
       "      <th>4</th>\n",
       "      <td>5300544</td>\n",
       "      <td>1993</td>\n",
       "      <td>1994</td>\n",
       "      <td>1.0</td>\n",
       "      <td>15.0</td>\n",
       "      <td>Physical Sciences\\r</td>\n",
       "      <td>3.0</td>\n",
       "      <td>0</td>\n",
       "      <td>0</td>\n",
       "      <td>0</td>\n",
       "      <td>...</td>\n",
       "      <td>16</td>\n",
       "      <td>0.000000</td>\n",
       "      <td>0.000000</td>\n",
       "      <td>0.0</td>\n",
       "      <td>-0.012346</td>\n",
       "      <td>-0.049383</td>\n",
       "      <td>4.0</td>\n",
       "      <td>-0.019231</td>\n",
       "      <td>-0.134615</td>\n",
       "      <td>7</td>\n",
       "    </tr>\n",
       "  </tbody>\n",
       "</table>\n",
       "<p>5 rows × 58 columns</p>\n",
       "</div>"
      ],
      "text/plain": [
       "   patent_id  application_year  grant_year  field_nber_category_id  \\\n",
       "0    5164715              1990        1992                     2.0   \n",
       "1    5177974              1988        1993                     6.0   \n",
       "2    5379515              1994        1995                     5.0   \n",
       "3    5264790              1991        1993                     4.0   \n",
       "4    5300544              1993        1994                     1.0   \n",
       "\n",
       "   field_nber_subcategory_id field_wos_research_area  inventors_total  \\\n",
       "0                       23.0            Technology\\r              5.0   \n",
       "1                       69.0                   Other              4.0   \n",
       "2                       52.0            Technology\\r             10.0   \n",
       "3                       43.0            Technology\\r              2.0   \n",
       "4                       15.0     Physical Sciences\\r              3.0   \n",
       "\n",
       "   inventors_gender_final_male  inventors_gender_final_female  \\\n",
       "0                            0                              0   \n",
       "1                            0                              0   \n",
       "2                            0                              0   \n",
       "3                            0                              0   \n",
       "4                            0                              0   \n",
       "\n",
       "   inventors_gender_final_unknown   ...     backward_citations      cd_5  \\\n",
       "0                               0   ...                      3  0.375000   \n",
       "1                               0   ...                      6  0.111111   \n",
       "2                               0   ...                     11  0.006024   \n",
       "3                               0   ...                      2  0.555556   \n",
       "4                               0   ...                     16  0.000000   \n",
       "\n",
       "      mcd_5  i_5     cd_10    mcd_10  i_10  cd_2017y   mcd_2017y  i_2017y  \n",
       "0  1.125000  3.0  0.350000  2.450000   7.0  0.778409  106.642000      137  \n",
       "1  0.222222  2.0  0.066667  0.400000   6.0  0.058824    0.529412        9  \n",
       "2  0.018072  3.0  0.021978  0.263736  12.0  0.020330    0.447268       22  \n",
       "3  2.777780  5.0  0.366667  4.033330  11.0  0.397436   12.320500       31  \n",
       "4  0.000000  0.0 -0.012346 -0.049383   4.0 -0.019231   -0.134615        7  \n",
       "\n",
       "[5 rows x 58 columns]"
      ]
     },
     "execution_count": 29,
     "metadata": {},
     "output_type": "execute_result"
    }
   ],
   "source": [
    "data.head()"
   ]
  },
  {
   "cell_type": "code",
   "execution_count": 38,
   "metadata": {},
   "outputs": [],
   "source": [
    "# Subset by columns with divergence and cd_5\n",
    "data_divergence = data[['absjsdis_nbersub_sp_tok_ttm0',\n",
    "'absjsdis_nbersub_sp_pos_ttm0',\n",
    "'abscodis_nbersub_sp_tok_ttm0',\n",
    "'abscodis_nbersub_sp_pos_ttm0',\n",
    "'absjsdis_nbersub_sp_tok_ttm5',\n",
    "'absjsdis_nbersub_sp_pos_ttm5',\n",
    "'abscodis_nbersub_sp_tok_ttm5',\n",
    "'abscodis_nbersub_sp_pos_ttm5',\n",
    "'application_year',\n",
    "'field_nber_category_id',\n",
    "'field_nber_subcategory_id',\n",
    "'abs_ntokens_sp_tok',\n",
    "'abs_ntokens_unique_sp_tok',\n",
    "'cd_5']]"
   ]
  },
  {
   "cell_type": "code",
   "execution_count": 54,
   "metadata": {},
   "outputs": [],
   "source": [
    "# Subset by data above 0.5 and below 0.5 according to the cd_5 index\n",
    "data_above = data_divergence[data_divergence['cd_5'] > 0.5]\n",
    "data_below = data_divergence[data_divergence['cd_5'] < -0.5]"
   ]
  },
  {
   "cell_type": "code",
   "execution_count": 55,
   "metadata": {},
   "outputs": [
    {
     "data": {
      "text/plain": [
       "398842"
      ]
     },
     "execution_count": 55,
     "metadata": {},
     "output_type": "execute_result"
    }
   ],
   "source": [
    "len(data_above)"
   ]
  },
  {
   "cell_type": "code",
   "execution_count": 56,
   "metadata": {},
   "outputs": [
    {
     "data": {
      "text/plain": [
       "14278"
      ]
     },
     "execution_count": 56,
     "metadata": {},
     "output_type": "execute_result"
    }
   ],
   "source": [
    "len(data_below)"
   ]
  },
  {
   "cell_type": "code",
   "execution_count": 57,
   "metadata": {},
   "outputs": [],
   "source": [
    "data_above = data_above.head(14278)"
   ]
  },
  {
   "cell_type": "code",
   "execution_count": 17,
   "metadata": {
    "scrolled": true
   },
   "outputs": [
    {
     "data": {
      "text/plain": [
       "cd_5                            1.000000\n",
       "abscodis_nbersub_sp_tok_ttm0    0.008347\n",
       "abscodis_nbersub_sp_tok_ttm5    0.008328\n",
       "abscodis_nbersub_sp_pos_ttm5    0.002022\n",
       "abscodis_nbersub_sp_pos_ttm0    0.001854\n",
       "absjsdis_nbersub_sp_tok_ttm0    0.000982\n",
       "absjsdis_nbersub_sp_tok_ttm5    0.000249\n",
       "absjsdis_nbersub_sp_pos_ttm5   -0.003342\n",
       "absjsdis_nbersub_sp_pos_ttm0   -0.003763\n",
       "Name: cd_5, dtype: float64"
      ]
     },
     "execution_count": 17,
     "metadata": {},
     "output_type": "execute_result"
    }
   ],
   "source": [
    "data_above.corr()['cd_5'].sort_values(ascending=False)"
   ]
  },
  {
   "cell_type": "code",
   "execution_count": 12,
   "metadata": {},
   "outputs": [
    {
     "data": {
      "text/plain": [
       "cd_5                            1.000000\n",
       "absjsdis_nbersub_sp_pos_ttm5    0.030602\n",
       "absjsdis_nbersub_sp_pos_ttm0    0.028652\n",
       "abscodis_nbersub_sp_pos_ttm5    0.021175\n",
       "abscodis_nbersub_sp_pos_ttm0    0.021085\n",
       "absjsdis_nbersub_sp_tok_ttm5   -0.002593\n",
       "abscodis_nbersub_sp_tok_ttm5   -0.004551\n",
       "absjsdis_nbersub_sp_tok_ttm0   -0.004725\n",
       "abscodis_nbersub_sp_tok_ttm0   -0.006813\n",
       "Name: cd_5, dtype: float64"
      ]
     },
     "execution_count": 12,
     "metadata": {},
     "output_type": "execute_result"
    }
   ],
   "source": [
    "data_below.corr()['cd_5'].sort_values(ascending=False)"
   ]
  },
  {
   "cell_type": "code",
   "execution_count": 88,
   "metadata": {},
   "outputs": [],
   "source": [
    "data_above_groupby = data_above.groupby('field_nber_category_id')['absjsdis_nbersub_sp_tok_ttm0','abscodis_nbersub_sp_tok_ttm0',\n",
    "                                            'absjsdis_nbersub_sp_tok_ttm5', 'abscodis_nbersub_sp_tok_ttm5'].mean()"
   ]
  },
  {
   "cell_type": "code",
   "execution_count": 92,
   "metadata": {},
   "outputs": [],
   "source": [
    "data_below_groupby = data_below.groupby('field_nber_category_id')['absjsdis_nbersub_sp_tok_ttm0','abscodis_nbersub_sp_tok_ttm0',\n",
    "                                            'absjsdis_nbersub_sp_tok_ttm5', 'abscodis_nbersub_sp_tok_ttm5'].mean()"
   ]
  },
  {
   "cell_type": "code",
   "execution_count": 106,
   "metadata": {},
   "outputs": [
    {
     "data": {
      "text/plain": [
       "<matplotlib.axes._subplots.AxesSubplot at 0x7f54b1d928d0>"
      ]
     },
     "execution_count": 106,
     "metadata": {},
     "output_type": "execute_result"
    },
    {
     "data": {
      "image/png": "[encoded data removed]",
      "text/plain": [
       "<Figure size 432x288 with 1 Axes>"
      ]
     },
     "metadata": {
      "needs_background": "light"
     },
     "output_type": "display_data"
    },
    {
     "data": {
      "image/png": "[encoded data removed]",
      "text/plain": [
       "<Figure size 432x288 with 1 Axes>"
      ]
     },
     "metadata": {
      "needs_background": "light"
     },
     "output_type": "display_data"
    }
   ],
   "source": [
    "data_above_groupby.plot(kind='bar', title='Data Above')\n",
    "data_below_groupby.plot(kind='bar', title='Data Below')"
   ]
  },
  {
   "cell_type": "code",
   "execution_count": 74,
   "metadata": {},
   "outputs": [
    {
     "data": {
      "text/plain": [
       "Index(['absjsdis_nbersub_sp_tok_ttm0', 'absjsdis_nbersub_sp_pos_ttm0',\n",
       "       'abscodis_nbersub_sp_tok_ttm0', 'abscodis_nbersub_sp_pos_ttm0',\n",
       "       'absjsdis_nbersub_sp_tok_ttm5', 'absjsdis_nbersub_sp_pos_ttm5',\n",
       "       'abscodis_nbersub_sp_tok_ttm5', 'abscodis_nbersub_sp_pos_ttm5',\n",
       "       'application_year', 'field_nber_category_id',\n",
       "       'field_nber_subcategory_id', 'abs_ntokens_sp_tok',\n",
       "       'abs_ntokens_unique_sp_tok', 'cd_5'],\n",
       "      dtype='object')"
      ]
     },
     "execution_count": 74,
     "metadata": {},
     "output_type": "execute_result"
    }
   ],
   "source": [
    "data_above.columns"
   ]
  },
  {
   "cell_type": "code",
   "execution_count": 76,
   "metadata": {},
   "outputs": [
    {
     "data": {
      "text/plain": [
       "<matplotlib.axes._subplots.AxesSubplot at 0x7f54b227e588>"
      ]
     },
     "execution_count": 76,
     "metadata": {},
     "output_type": "execute_result"
    },
    {
     "data": {
      "image/png": "[encoded data removed]",
      "text/plain": [
       "<Figure size 864x504 with 1 Axes>"
      ]
     },
     "metadata": {
      "needs_background": "light"
     },
     "output_type": "display_data"
    }
   ],
   "source": [
    "data_above.groupby('field_nber_category_id')['absjsdis_nbersub_sp_pos_ttm0','abscodis_nbersub_sp_pos_ttm0',\n",
    "                                            'absjsdis_nbersub_sp_pos_ttm5', 'abscodis_nbersub_sp_pos_ttm5'].mean().plot(kind='bar', figsize=(12,7))"
   ]
  },
  {
   "cell_type": "code",
   "execution_count": 80,
   "metadata": {},
   "outputs": [
    {
     "data": {
      "text/plain": [
       "<matplotlib.axes._subplots.AxesSubplot at 0x7f54b20358d0>"
      ]
     },
     "execution_count": 80,
     "metadata": {},
     "output_type": "execute_result"
    },
    {
     "data": {
      "image/png": "[encoded data removed]",
      "text/plain": [
       "<Figure size 864x504 with 1 Axes>"
      ]
     },
     "metadata": {
      "needs_background": "light"
     },
     "output_type": "display_data"
    }
   ],
   "source": [
    "data_below.groupby('field_nber_category_id')['absjsdis_nbersub_sp_pos_ttm0','abscodis_nbersub_sp_pos_ttm0',\n",
    "                                            'absjsdis_nbersub_sp_pos_ttm5', 'abscodis_nbersub_sp_pos_ttm5'].mean().plot(kind='bar', figsize=(12,7))"
   ]
  },
  {
   "cell_type": "code",
   "execution_count": 63,
   "metadata": {},
   "outputs": [
    {
     "data": {
      "text/plain": [
       "Index(['absjsdis_nbersub_sp_tok_ttm0', 'absjsdis_nbersub_sp_pos_ttm0',\n",
       "       'abscodis_nbersub_sp_tok_ttm0', 'abscodis_nbersub_sp_pos_ttm0',\n",
       "       'absjsdis_nbersub_sp_tok_ttm5', 'absjsdis_nbersub_sp_pos_ttm5',\n",
       "       'abscodis_nbersub_sp_tok_ttm5', 'abscodis_nbersub_sp_pos_ttm5',\n",
       "       'application_year', 'field_nber_category_id',\n",
       "       'field_nber_subcategory_id', 'abs_ntokens_sp_tok',\n",
       "       'abs_ntokens_unique_sp_tok', 'cd_5'],\n",
       "      dtype='object')"
      ]
     },
     "execution_count": 63,
     "metadata": {},
     "output_type": "execute_result"
    }
   ],
   "source": [
    "data_above.columns"
   ]
  },
  {
   "cell_type": "code",
   "execution_count": 62,
   "metadata": {},
   "outputs": [
    {
     "data": {
      "text/plain": [
       "<matplotlib.axes._subplots.AxesSubplot at 0x7f54b765a5f8>"
      ]
     },
     "execution_count": 62,
     "metadata": {},
     "output_type": "execute_result"
    },
    {
     "data": {
      "image/png": "[encoded data removed]",
      "text/plain": [
       "<Figure size 432x288 with 1 Axes>"
      ]
     },
     "metadata": {
      "needs_background": "light"
     },
     "output_type": "display_data"
    }
   ],
   "source": [
    "import matplotlib.pyplot as plt\n",
    "%matplotlib inline\n",
    "data_above.groupby('field_nber_category_id')['absjsdis_nbersub_sp_tok_ttm0'].mean().plot(kind='bar')"
   ]
  },
  {
   "cell_type": "code",
   "execution_count": null,
   "metadata": {},
   "outputs": [],
   "source": []
  }
 ],
 "metadata": {
  "hide_input": false,
  "kernelspec": {
   "display_name": "Python 3",
   "language": "python",
   "name": "python3"
  },
  "language_info": {
   "codemirror_mode": {
    "name": "ipython",
    "version": 3
   },
   "file_extension": ".py",
   "mimetype": "text/x-python",
   "name": "python",
   "nbconvert_exporter": "python",
   "pygments_lexer": "ipython3",
   "version": "3.6.7"
  },
  "toc": {
   "base_numbering": 1,
   "nav_menu": {},
   "number_sections": true,
   "sideBar": true,
   "skip_h1_title": true,
   "title_cell": "Table of Contents",
   "title_sidebar": "Contents",
   "toc_cell": true,
   "toc_position": {},
   "toc_section_display": true,
   "toc_window_display": true
  },
  "varInspector": {
   "cols": {
    "lenName": 16,
    "lenType": 16,
    "lenVar": 40
   },
   "kernels_config": {
    "python": {
     "delete_cmd_postfix": "",
     "delete_cmd_prefix": "del ",
     "library": "var_list.py",
     "varRefreshCmd": "print(var_dic_list())"
    },
    "r": {
     "delete_cmd_postfix": ") ",
     "delete_cmd_prefix": "rm(",
     "library": "var_list.r",
     "varRefreshCmd": "cat(var_dic_list()) "
    }
   },
   "types_to_exclude": [
    "module",
    "function",
    "builtin_function_or_method",
    "instance",
    "_Feature"
   ],
   "window_display": false
  }
 },
 "nbformat": 4,
 "nbformat_minor": 2
}
