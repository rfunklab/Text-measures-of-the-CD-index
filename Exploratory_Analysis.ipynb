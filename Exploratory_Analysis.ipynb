{
 "cells": [
  {
   "cell_type": "markdown",
   "metadata": {
    "toc": true
   },
   "source": [
    "<h1>Table of Contents<span class=\"tocSkip\"></span></h1>\n",
    "<div class=\"toc\"><ul class=\"toc-item\"></ul></div>"
   ]
  },
  {
   "cell_type": "code",
   "execution_count": 1,
   "metadata": {
    "ExecuteTime": {
     "end_time": "2019-10-04T13:59:13.728074Z",
     "start_time": "2019-10-04T13:59:12.972203Z"
    }
   },
   "outputs": [],
   "source": [
    "import pandas as pd"
   ]
  },
  {
   "cell_type": "code",
   "execution_count": null,
   "metadata": {
    "ExecuteTime": {
     "end_time": "2019-10-04T18:07:16.710015Z",
     "start_time": "2019-10-04T18:05:31.790719Z"
    }
   },
   "outputs": [],
   "source": [
    "document_attributes = pd.read_csv('document_attributes.csv', header=None)\n",
    "document_attributes_with_title_tokens = pd.read_csv('document_attributes_with_title_tokens.csv',error_bad_lines=False, header=None)"
   ]
  },
  {
   "cell_type": "code",
   "execution_count": null,
   "metadata": {
    "ExecuteTime": {
     "end_time": "2019-10-04T18:07:51.876436Z",
     "start_time": "2019-10-04T18:07:16.976228Z"
    }
   },
   "outputs": [],
   "source": [
    "document_title_tokens = pd.read_csv('document_title_tokens.csv',error_bad_lines=False,header=None)"
   ]
  },
  {
   "cell_type": "code",
   "execution_count": 16,
   "metadata": {
    "ExecuteTime": {
     "end_time": "2019-10-04T18:24:46.244306Z",
     "start_time": "2019-10-04T18:24:46.192343Z"
    }
   },
   "outputs": [
    {
     "data": {
      "text/html": [
       "<div>\n",
       "<style scoped>\n",
       "    .dataframe tbody tr th:only-of-type {\n",
       "        vertical-align: middle;\n",
       "    }\n",
       "\n",
       "    .dataframe tbody tr th {\n",
       "        vertical-align: top;\n",
       "    }\n",
       "\n",
       "    .dataframe thead th {\n",
       "        text-align: right;\n",
       "    }\n",
       "</style>\n",
       "<table border=\"1\" class=\"dataframe\">\n",
       "  <thead>\n",
       "    <tr style=\"text-align: right;\">\n",
       "      <th></th>\n",
       "      <th>0</th>\n",
       "      <th>1</th>\n",
       "      <th>2</th>\n",
       "      <th>3</th>\n",
       "      <th>4</th>\n",
       "      <th>5</th>\n",
       "      <th>6</th>\n",
       "      <th>7</th>\n",
       "      <th>8</th>\n",
       "      <th>9</th>\n",
       "      <th>10</th>\n",
       "    </tr>\n",
       "  </thead>\n",
       "  <tbody>\n",
       "    <tr>\n",
       "      <th>0</th>\n",
       "      <td>a27736431</td>\n",
       "      <td>article</td>\n",
       "      <td>1997</td>\n",
       "      <td>\\N</td>\n",
       "      <td>Engineering</td>\n",
       "      <td>0</td>\n",
       "      <td>0</td>\n",
       "      <td>0</td>\n",
       "      <td>0.006172839506172839</td>\n",
       "      <td>0.018518518518518517</td>\n",
       "      <td>3</td>\n",
       "    </tr>\n",
       "    <tr>\n",
       "      <th>1</th>\n",
       "      <td>a41123858</td>\n",
       "      <td>article</td>\n",
       "      <td>2006</td>\n",
       "      <td>\\N</td>\n",
       "      <td>Chemistry</td>\n",
       "      <td>0.004347826086956522</td>\n",
       "      <td>0.017391304347826087</td>\n",
       "      <td>4</td>\n",
       "      <td>0.006631299734748011</td>\n",
       "      <td>0.07294429708222812</td>\n",
       "      <td>11</td>\n",
       "    </tr>\n",
       "    <tr>\n",
       "      <th>2</th>\n",
       "      <td>a26781251</td>\n",
       "      <td>article</td>\n",
       "      <td>1996</td>\n",
       "      <td>\\N</td>\n",
       "      <td>Biology|Medicine</td>\n",
       "      <td>-0.008547008547008548</td>\n",
       "      <td>-0.025641025641025644</td>\n",
       "      <td>3</td>\n",
       "      <td>-0.030100334448160536</td>\n",
       "      <td>-0.5719063545150502</td>\n",
       "      <td>19</td>\n",
       "    </tr>\n",
       "    <tr>\n",
       "      <th>3</th>\n",
       "      <td>a34903787</td>\n",
       "      <td>article</td>\n",
       "      <td>2002</td>\n",
       "      <td>\\N</td>\n",
       "      <td>Medicine</td>\n",
       "      <td>-0.0031111642934067247</td>\n",
       "      <td>-0.09333492880220175</td>\n",
       "      <td>30</td>\n",
       "      <td>-0.003962289930318349</td>\n",
       "      <td>-0.30905861456483125</td>\n",
       "      <td>78</td>\n",
       "    </tr>\n",
       "    <tr>\n",
       "      <th>4</th>\n",
       "      <td>a43526827</td>\n",
       "      <td>article</td>\n",
       "      <td>2007</td>\n",
       "      <td>\\N</td>\n",
       "      <td>Engineering|Social sciences</td>\n",
       "      <td>-0.009713453132588635</td>\n",
       "      <td>-0.291403593977659</td>\n",
       "      <td>30</td>\n",
       "      <td>-0.003911024199462234</td>\n",
       "      <td>-0.16426301637741383</td>\n",
       "      <td>42</td>\n",
       "    </tr>\n",
       "  </tbody>\n",
       "</table>\n",
       "</div>"
      ],
      "text/plain": [
       "          0        1     2   3                            4   \\\n",
       "0  a27736431  article  1997  \\N                  Engineering   \n",
       "1  a41123858  article  2006  \\N                    Chemistry   \n",
       "2  a26781251  article  1996  \\N             Biology|Medicine   \n",
       "3  a34903787  article  2002  \\N                     Medicine   \n",
       "4  a43526827  article  2007  \\N  Engineering|Social sciences   \n",
       "\n",
       "                       5                      6   7                      8   \\\n",
       "0                       0                      0   0   0.006172839506172839   \n",
       "1    0.004347826086956522   0.017391304347826087   4   0.006631299734748011   \n",
       "2   -0.008547008547008548  -0.025641025641025644   3  -0.030100334448160536   \n",
       "3  -0.0031111642934067247   -0.09333492880220175  30  -0.003962289930318349   \n",
       "4   -0.009713453132588635     -0.291403593977659  30  -0.003911024199462234   \n",
       "\n",
       "                     9   10  \n",
       "0  0.018518518518518517   3  \n",
       "1   0.07294429708222812  11  \n",
       "2   -0.5719063545150502  19  \n",
       "3  -0.30905861456483125  78  \n",
       "4  -0.16426301637741383  42  "
      ]
     },
     "execution_count": 16,
     "metadata": {},
     "output_type": "execute_result"
    }
   ],
   "source": [
    "document_attributes.head()"
   ]
  },
  {
   "cell_type": "code",
   "execution_count": 17,
   "metadata": {
    "ExecuteTime": {
     "end_time": "2019-10-04T18:24:48.928020Z",
     "start_time": "2019-10-04T18:24:48.902080Z"
    }
   },
   "outputs": [
    {
     "data": {
      "text/html": [
       "<div>\n",
       "<style scoped>\n",
       "    .dataframe tbody tr th:only-of-type {\n",
       "        vertical-align: middle;\n",
       "    }\n",
       "\n",
       "    .dataframe tbody tr th {\n",
       "        vertical-align: top;\n",
       "    }\n",
       "\n",
       "    .dataframe thead th {\n",
       "        text-align: right;\n",
       "    }\n",
       "</style>\n",
       "<table border=\"1\" class=\"dataframe\">\n",
       "  <thead>\n",
       "    <tr style=\"text-align: right;\">\n",
       "      <th></th>\n",
       "      <th>0</th>\n",
       "      <th>1</th>\n",
       "      <th>2</th>\n",
       "      <th>3</th>\n",
       "      <th>4</th>\n",
       "      <th>5</th>\n",
       "      <th>6</th>\n",
       "      <th>7</th>\n",
       "      <th>8</th>\n",
       "      <th>9</th>\n",
       "      <th>10</th>\n",
       "      <th>11</th>\n",
       "      <th>12</th>\n",
       "      <th>13</th>\n",
       "      <th>14</th>\n",
       "      <th>15</th>\n",
       "      <th>16</th>\n",
       "      <th>17</th>\n",
       "      <th>18</th>\n",
       "      <th>19</th>\n",
       "    </tr>\n",
       "  </thead>\n",
       "  <tbody>\n",
       "    <tr>\n",
       "      <th>0</th>\n",
       "      <td>a27736431</td>\n",
       "      <td>article</td>\n",
       "      <td>1997</td>\n",
       "      <td>\\N</td>\n",
       "      <td>Engineering</td>\n",
       "      <td>0</td>\n",
       "      <td>0</td>\n",
       "      <td>0</td>\n",
       "      <td>0.006172839506172839</td>\n",
       "      <td>0.018518518518518517</td>\n",
       "      <td>3</td>\n",
       "      <td>0</td>\n",
       "      <td>On</td>\n",
       "      <td>on</td>\n",
       "      <td>ADP</td>\n",
       "      <td>IN</td>\n",
       "      <td>ROOT</td>\n",
       "      <td>Xx</td>\n",
       "      <td>1</td>\n",
       "      <td>1.0</td>\n",
       "    </tr>\n",
       "    <tr>\n",
       "      <th>1</th>\n",
       "      <td>a27736431</td>\n",
       "      <td>article</td>\n",
       "      <td>1997</td>\n",
       "      <td>\\N</td>\n",
       "      <td>Engineering</td>\n",
       "      <td>0</td>\n",
       "      <td>0</td>\n",
       "      <td>0</td>\n",
       "      <td>0.006172839506172839</td>\n",
       "      <td>0.018518518518518517</td>\n",
       "      <td>3</td>\n",
       "      <td>1</td>\n",
       "      <td>separation</td>\n",
       "      <td>separation</td>\n",
       "      <td>NOUN</td>\n",
       "      <td>NN</td>\n",
       "      <td>pobj</td>\n",
       "      <td>xxxx</td>\n",
       "      <td>1</td>\n",
       "      <td>0.0</td>\n",
       "    </tr>\n",
       "    <tr>\n",
       "      <th>2</th>\n",
       "      <td>a27736431</td>\n",
       "      <td>article</td>\n",
       "      <td>1997</td>\n",
       "      <td>\\N</td>\n",
       "      <td>Engineering</td>\n",
       "      <td>0</td>\n",
       "      <td>0</td>\n",
       "      <td>0</td>\n",
       "      <td>0.006172839506172839</td>\n",
       "      <td>0.018518518518518517</td>\n",
       "      <td>3</td>\n",
       "      <td>2</td>\n",
       "      <td>of</td>\n",
       "      <td>of</td>\n",
       "      <td>ADP</td>\n",
       "      <td>IN</td>\n",
       "      <td>prep</td>\n",
       "      <td>xx</td>\n",
       "      <td>1</td>\n",
       "      <td>1.0</td>\n",
       "    </tr>\n",
       "    <tr>\n",
       "      <th>3</th>\n",
       "      <td>a27736431</td>\n",
       "      <td>article</td>\n",
       "      <td>1997</td>\n",
       "      <td>\\N</td>\n",
       "      <td>Engineering</td>\n",
       "      <td>0</td>\n",
       "      <td>0</td>\n",
       "      <td>0</td>\n",
       "      <td>0.006172839506172839</td>\n",
       "      <td>0.018518518518518517</td>\n",
       "      <td>3</td>\n",
       "      <td>3</td>\n",
       "      <td>energies</td>\n",
       "      <td>energy</td>\n",
       "      <td>NOUN</td>\n",
       "      <td>NNS</td>\n",
       "      <td>pobj</td>\n",
       "      <td>xxxx</td>\n",
       "      <td>1</td>\n",
       "      <td>0.0</td>\n",
       "    </tr>\n",
       "    <tr>\n",
       "      <th>4</th>\n",
       "      <td>a27736431</td>\n",
       "      <td>article</td>\n",
       "      <td>1997</td>\n",
       "      <td>\\N</td>\n",
       "      <td>Engineering</td>\n",
       "      <td>0</td>\n",
       "      <td>0</td>\n",
       "      <td>0</td>\n",
       "      <td>0.006172839506172839</td>\n",
       "      <td>0.018518518518518517</td>\n",
       "      <td>3</td>\n",
       "      <td>4</td>\n",
       "      <td>in</td>\n",
       "      <td>in</td>\n",
       "      <td>ADP</td>\n",
       "      <td>IN</td>\n",
       "      <td>prep</td>\n",
       "      <td>xx</td>\n",
       "      <td>1</td>\n",
       "      <td>1.0</td>\n",
       "    </tr>\n",
       "  </tbody>\n",
       "</table>\n",
       "</div>"
      ],
      "text/plain": [
       "          0        1     2   3            4  5  6  7                     8   \\\n",
       "0  a27736431  article  1997  \\N  Engineering  0  0  0  0.006172839506172839   \n",
       "1  a27736431  article  1997  \\N  Engineering  0  0  0  0.006172839506172839   \n",
       "2  a27736431  article  1997  \\N  Engineering  0  0  0  0.006172839506172839   \n",
       "3  a27736431  article  1997  \\N  Engineering  0  0  0  0.006172839506172839   \n",
       "4  a27736431  article  1997  \\N  Engineering  0  0  0  0.006172839506172839   \n",
       "\n",
       "                     9  10  11          12          13    14   15    16    17  \\\n",
       "0  0.018518518518518517  3   0          On          on   ADP   IN  ROOT    Xx   \n",
       "1  0.018518518518518517  3   1  separation  separation  NOUN   NN  pobj  xxxx   \n",
       "2  0.018518518518518517  3   2          of          of   ADP   IN  prep    xx   \n",
       "3  0.018518518518518517  3   3    energies      energy  NOUN  NNS  pobj  xxxx   \n",
       "4  0.018518518518518517  3   4          in          in   ADP   IN  prep    xx   \n",
       "\n",
       "   18   19  \n",
       "0   1  1.0  \n",
       "1   1  0.0  \n",
       "2   1  1.0  \n",
       "3   1  0.0  \n",
       "4   1  1.0  "
      ]
     },
     "execution_count": 17,
     "metadata": {},
     "output_type": "execute_result"
    }
   ],
   "source": [
    "document_attributes_with_title_tokens.head()"
   ]
  },
  {
   "cell_type": "code",
   "execution_count": 41,
   "metadata": {
    "ExecuteTime": {
     "end_time": "2019-10-04T18:37:25.721651Z",
     "start_time": "2019-10-04T18:37:24.540527Z"
    }
   },
   "outputs": [
    {
     "data": {
      "text/html": [
       "<div>\n",
       "<style scoped>\n",
       "    .dataframe tbody tr th:only-of-type {\n",
       "        vertical-align: middle;\n",
       "    }\n",
       "\n",
       "    .dataframe tbody tr th {\n",
       "        vertical-align: top;\n",
       "    }\n",
       "\n",
       "    .dataframe thead th {\n",
       "        text-align: right;\n",
       "    }\n",
       "</style>\n",
       "<table border=\"1\" class=\"dataframe\">\n",
       "  <thead>\n",
       "    <tr style=\"text-align: right;\">\n",
       "      <th></th>\n",
       "      <th>0</th>\n",
       "      <th>1</th>\n",
       "      <th>2</th>\n",
       "      <th>3</th>\n",
       "      <th>4</th>\n",
       "      <th>5</th>\n",
       "      <th>6</th>\n",
       "      <th>7</th>\n",
       "      <th>8</th>\n",
       "      <th>9</th>\n",
       "    </tr>\n",
       "  </thead>\n",
       "  <tbody>\n",
       "    <tr>\n",
       "      <th>0</th>\n",
       "      <td>a27736431</td>\n",
       "      <td>0</td>\n",
       "      <td>On</td>\n",
       "      <td>on</td>\n",
       "      <td>ADP</td>\n",
       "      <td>IN</td>\n",
       "      <td>ROOT</td>\n",
       "      <td>Xx</td>\n",
       "      <td>1</td>\n",
       "      <td>1.0</td>\n",
       "    </tr>\n",
       "    <tr>\n",
       "      <th>1</th>\n",
       "      <td>a27736431</td>\n",
       "      <td>1</td>\n",
       "      <td>separation</td>\n",
       "      <td>separation</td>\n",
       "      <td>NOUN</td>\n",
       "      <td>NN</td>\n",
       "      <td>pobj</td>\n",
       "      <td>xxxx</td>\n",
       "      <td>1</td>\n",
       "      <td>0.0</td>\n",
       "    </tr>\n",
       "    <tr>\n",
       "      <th>2</th>\n",
       "      <td>a27736431</td>\n",
       "      <td>2</td>\n",
       "      <td>of</td>\n",
       "      <td>of</td>\n",
       "      <td>ADP</td>\n",
       "      <td>IN</td>\n",
       "      <td>prep</td>\n",
       "      <td>xx</td>\n",
       "      <td>1</td>\n",
       "      <td>1.0</td>\n",
       "    </tr>\n",
       "    <tr>\n",
       "      <th>3</th>\n",
       "      <td>a27736431</td>\n",
       "      <td>3</td>\n",
       "      <td>energies</td>\n",
       "      <td>energy</td>\n",
       "      <td>NOUN</td>\n",
       "      <td>NNS</td>\n",
       "      <td>pobj</td>\n",
       "      <td>xxxx</td>\n",
       "      <td>1</td>\n",
       "      <td>0.0</td>\n",
       "    </tr>\n",
       "    <tr>\n",
       "      <th>4</th>\n",
       "      <td>a27736431</td>\n",
       "      <td>4</td>\n",
       "      <td>in</td>\n",
       "      <td>in</td>\n",
       "      <td>ADP</td>\n",
       "      <td>IN</td>\n",
       "      <td>prep</td>\n",
       "      <td>xx</td>\n",
       "      <td>1</td>\n",
       "      <td>1.0</td>\n",
       "    </tr>\n",
       "    <tr>\n",
       "      <th>5</th>\n",
       "      <td>a27736431</td>\n",
       "      <td>5</td>\n",
       "      <td>viscoelasticity</td>\n",
       "      <td>viscoelasticity</td>\n",
       "      <td>NOUN</td>\n",
       "      <td>NN</td>\n",
       "      <td>pobj</td>\n",
       "      <td>xxxx</td>\n",
       "      <td>1</td>\n",
       "      <td>0.0</td>\n",
       "    </tr>\n",
       "  </tbody>\n",
       "</table>\n",
       "</div>"
      ],
      "text/plain": [
       "           0  1                2                3     4    5     6     7  8  \\\n",
       "0  a27736431  0               On               on   ADP   IN  ROOT    Xx  1   \n",
       "1  a27736431  1       separation       separation  NOUN   NN  pobj  xxxx  1   \n",
       "2  a27736431  2               of               of   ADP   IN  prep    xx  1   \n",
       "3  a27736431  3         energies           energy  NOUN  NNS  pobj  xxxx  1   \n",
       "4  a27736431  4               in               in   ADP   IN  prep    xx  1   \n",
       "5  a27736431  5  viscoelasticity  viscoelasticity  NOUN   NN  pobj  xxxx  1   \n",
       "\n",
       "     9  \n",
       "0  1.0  \n",
       "1  0.0  \n",
       "2  1.0  \n",
       "3  0.0  \n",
       "4  1.0  \n",
       "5  0.0  "
      ]
     },
     "execution_count": 41,
     "metadata": {},
     "output_type": "execute_result"
    }
   ],
   "source": [
    "document_title_tokens[document_title_tokens[0] == 'a27736431']"
   ]
  },
  {
   "cell_type": "code",
   "execution_count": 35,
   "metadata": {
    "ExecuteTime": {
     "end_time": "2019-10-04T18:36:00.310846Z",
     "start_time": "2019-10-04T18:35:39.968727Z"
    }
   },
   "outputs": [],
   "source": [
    "groupby = document_title_tokens.groupby([0,4]).size().unstack(fill_value=0)"
   ]
  },
  {
   "cell_type": "code",
   "execution_count": 40,
   "metadata": {
    "ExecuteTime": {
     "end_time": "2019-10-04T18:37:03.269633Z",
     "start_time": "2019-10-04T18:37:02.814313Z"
    }
   },
   "outputs": [
    {
     "data": {
      "text/html": [
       "<div>\n",
       "<style scoped>\n",
       "    .dataframe tbody tr th:only-of-type {\n",
       "        vertical-align: middle;\n",
       "    }\n",
       "\n",
       "    .dataframe tbody tr th {\n",
       "        vertical-align: top;\n",
       "    }\n",
       "\n",
       "    .dataframe thead th {\n",
       "        text-align: right;\n",
       "    }\n",
       "</style>\n",
       "<table border=\"1\" class=\"dataframe\">\n",
       "  <thead>\n",
       "    <tr style=\"text-align: right;\">\n",
       "      <th>4</th>\n",
       "      <th>ADJ</th>\n",
       "      <th>ADP</th>\n",
       "      <th>ADV</th>\n",
       "      <th>AUX</th>\n",
       "      <th>CCONJ</th>\n",
       "      <th>DET</th>\n",
       "      <th>INTJ</th>\n",
       "      <th>NNS</th>\n",
       "      <th>NOUN</th>\n",
       "      <th>NUM</th>\n",
       "      <th>PART</th>\n",
       "      <th>PRON</th>\n",
       "      <th>PROPN</th>\n",
       "      <th>PUNCT</th>\n",
       "      <th>SCONJ</th>\n",
       "      <th>SPACE</th>\n",
       "      <th>SYM</th>\n",
       "      <th>VERB</th>\n",
       "      <th>X</th>\n",
       "    </tr>\n",
       "    <tr>\n",
       "      <th>0</th>\n",
       "      <th></th>\n",
       "      <th></th>\n",
       "      <th></th>\n",
       "      <th></th>\n",
       "      <th></th>\n",
       "      <th></th>\n",
       "      <th></th>\n",
       "      <th></th>\n",
       "      <th></th>\n",
       "      <th></th>\n",
       "      <th></th>\n",
       "      <th></th>\n",
       "      <th></th>\n",
       "      <th></th>\n",
       "      <th></th>\n",
       "      <th></th>\n",
       "      <th></th>\n",
       "      <th></th>\n",
       "      <th></th>\n",
       "    </tr>\n",
       "  </thead>\n",
       "  <tbody>\n",
       "    <tr>\n",
       "      <th>a27736431</th>\n",
       "      <td>0</td>\n",
       "      <td>3</td>\n",
       "      <td>0</td>\n",
       "      <td>0</td>\n",
       "      <td>0</td>\n",
       "      <td>0</td>\n",
       "      <td>0</td>\n",
       "      <td>0</td>\n",
       "      <td>3</td>\n",
       "      <td>0</td>\n",
       "      <td>0</td>\n",
       "      <td>0</td>\n",
       "      <td>0</td>\n",
       "      <td>0</td>\n",
       "      <td>0</td>\n",
       "      <td>0</td>\n",
       "      <td>0</td>\n",
       "      <td>0</td>\n",
       "      <td>0</td>\n",
       "    </tr>\n",
       "  </tbody>\n",
       "</table>\n",
       "</div>"
      ],
      "text/plain": [
       "4          ADJ  ADP  ADV  AUX  CCONJ  DET  INTJ  NNS  NOUN  NUM  PART  PRON  \\\n",
       "0                                                                             \n",
       "a27736431    0    3    0    0      0    0     0    0     3    0     0     0   \n",
       "\n",
       "4          PROPN  PUNCT  SCONJ  SPACE  SYM  VERB  X  \n",
       "0                                                    \n",
       "a27736431      0      0      0      0    0     0  0  "
      ]
     },
     "execution_count": 40,
     "metadata": {},
     "output_type": "execute_result"
    }
   ],
   "source": [
    "groupby[groupby.index == 'a27736431']"
   ]
  },
  {
   "cell_type": "code",
   "execution_count": 45,
   "metadata": {
    "ExecuteTime": {
     "end_time": "2019-10-04T19:29:18.280633Z",
     "start_time": "2019-10-04T19:29:09.564039Z"
    }
   },
   "outputs": [],
   "source": [
    "above_zero = document_attributes_with_title_tokens[document_attributes_with_title_tokens[8] > '0']"
   ]
  },
  {
   "cell_type": "code",
   "execution_count": 50,
   "metadata": {
    "ExecuteTime": {
     "end_time": "2019-10-04T19:30:33.826431Z",
     "start_time": "2019-10-04T19:30:33.800365Z"
    }
   },
   "outputs": [
    {
     "data": {
      "text/html": [
       "<div>\n",
       "<style scoped>\n",
       "    .dataframe tbody tr th:only-of-type {\n",
       "        vertical-align: middle;\n",
       "    }\n",
       "\n",
       "    .dataframe tbody tr th {\n",
       "        vertical-align: top;\n",
       "    }\n",
       "\n",
       "    .dataframe thead th {\n",
       "        text-align: right;\n",
       "    }\n",
       "</style>\n",
       "<table border=\"1\" class=\"dataframe\">\n",
       "  <thead>\n",
       "    <tr style=\"text-align: right;\">\n",
       "      <th></th>\n",
       "      <th>0</th>\n",
       "      <th>1</th>\n",
       "      <th>2</th>\n",
       "      <th>3</th>\n",
       "      <th>4</th>\n",
       "      <th>5</th>\n",
       "      <th>6</th>\n",
       "      <th>7</th>\n",
       "      <th>8</th>\n",
       "      <th>9</th>\n",
       "      <th>10</th>\n",
       "      <th>11</th>\n",
       "      <th>12</th>\n",
       "      <th>13</th>\n",
       "      <th>14</th>\n",
       "      <th>15</th>\n",
       "      <th>16</th>\n",
       "      <th>17</th>\n",
       "      <th>18</th>\n",
       "      <th>19</th>\n",
       "    </tr>\n",
       "  </thead>\n",
       "  <tbody>\n",
       "    <tr>\n",
       "      <th>0</th>\n",
       "      <td>a27736431</td>\n",
       "      <td>article</td>\n",
       "      <td>1997</td>\n",
       "      <td>\\N</td>\n",
       "      <td>Engineering</td>\n",
       "      <td>0</td>\n",
       "      <td>0</td>\n",
       "      <td>0</td>\n",
       "      <td>0.006172839506172839</td>\n",
       "      <td>0.018518518518518517</td>\n",
       "      <td>3</td>\n",
       "      <td>0</td>\n",
       "      <td>On</td>\n",
       "      <td>on</td>\n",
       "      <td>ADP</td>\n",
       "      <td>IN</td>\n",
       "      <td>ROOT</td>\n",
       "      <td>Xx</td>\n",
       "      <td>1</td>\n",
       "      <td>1.0</td>\n",
       "    </tr>\n",
       "    <tr>\n",
       "      <th>1</th>\n",
       "      <td>a27736431</td>\n",
       "      <td>article</td>\n",
       "      <td>1997</td>\n",
       "      <td>\\N</td>\n",
       "      <td>Engineering</td>\n",
       "      <td>0</td>\n",
       "      <td>0</td>\n",
       "      <td>0</td>\n",
       "      <td>0.006172839506172839</td>\n",
       "      <td>0.018518518518518517</td>\n",
       "      <td>3</td>\n",
       "      <td>1</td>\n",
       "      <td>separation</td>\n",
       "      <td>separation</td>\n",
       "      <td>NOUN</td>\n",
       "      <td>NN</td>\n",
       "      <td>pobj</td>\n",
       "      <td>xxxx</td>\n",
       "      <td>1</td>\n",
       "      <td>0.0</td>\n",
       "    </tr>\n",
       "    <tr>\n",
       "      <th>2</th>\n",
       "      <td>a27736431</td>\n",
       "      <td>article</td>\n",
       "      <td>1997</td>\n",
       "      <td>\\N</td>\n",
       "      <td>Engineering</td>\n",
       "      <td>0</td>\n",
       "      <td>0</td>\n",
       "      <td>0</td>\n",
       "      <td>0.006172839506172839</td>\n",
       "      <td>0.018518518518518517</td>\n",
       "      <td>3</td>\n",
       "      <td>2</td>\n",
       "      <td>of</td>\n",
       "      <td>of</td>\n",
       "      <td>ADP</td>\n",
       "      <td>IN</td>\n",
       "      <td>prep</td>\n",
       "      <td>xx</td>\n",
       "      <td>1</td>\n",
       "      <td>1.0</td>\n",
       "    </tr>\n",
       "    <tr>\n",
       "      <th>3</th>\n",
       "      <td>a27736431</td>\n",
       "      <td>article</td>\n",
       "      <td>1997</td>\n",
       "      <td>\\N</td>\n",
       "      <td>Engineering</td>\n",
       "      <td>0</td>\n",
       "      <td>0</td>\n",
       "      <td>0</td>\n",
       "      <td>0.006172839506172839</td>\n",
       "      <td>0.018518518518518517</td>\n",
       "      <td>3</td>\n",
       "      <td>3</td>\n",
       "      <td>energies</td>\n",
       "      <td>energy</td>\n",
       "      <td>NOUN</td>\n",
       "      <td>NNS</td>\n",
       "      <td>pobj</td>\n",
       "      <td>xxxx</td>\n",
       "      <td>1</td>\n",
       "      <td>0.0</td>\n",
       "    </tr>\n",
       "    <tr>\n",
       "      <th>4</th>\n",
       "      <td>a27736431</td>\n",
       "      <td>article</td>\n",
       "      <td>1997</td>\n",
       "      <td>\\N</td>\n",
       "      <td>Engineering</td>\n",
       "      <td>0</td>\n",
       "      <td>0</td>\n",
       "      <td>0</td>\n",
       "      <td>0.006172839506172839</td>\n",
       "      <td>0.018518518518518517</td>\n",
       "      <td>3</td>\n",
       "      <td>4</td>\n",
       "      <td>in</td>\n",
       "      <td>in</td>\n",
       "      <td>ADP</td>\n",
       "      <td>IN</td>\n",
       "      <td>prep</td>\n",
       "      <td>xx</td>\n",
       "      <td>1</td>\n",
       "      <td>1.0</td>\n",
       "    </tr>\n",
       "  </tbody>\n",
       "</table>\n",
       "</div>"
      ],
      "text/plain": [
       "          0        1     2   3            4  5  6  7                     8   \\\n",
       "0  a27736431  article  1997  \\N  Engineering  0  0  0  0.006172839506172839   \n",
       "1  a27736431  article  1997  \\N  Engineering  0  0  0  0.006172839506172839   \n",
       "2  a27736431  article  1997  \\N  Engineering  0  0  0  0.006172839506172839   \n",
       "3  a27736431  article  1997  \\N  Engineering  0  0  0  0.006172839506172839   \n",
       "4  a27736431  article  1997  \\N  Engineering  0  0  0  0.006172839506172839   \n",
       "\n",
       "                     9  10  11          12          13    14   15    16    17  \\\n",
       "0  0.018518518518518517  3   0          On          on   ADP   IN  ROOT    Xx   \n",
       "1  0.018518518518518517  3   1  separation  separation  NOUN   NN  pobj  xxxx   \n",
       "2  0.018518518518518517  3   2          of          of   ADP   IN  prep    xx   \n",
       "3  0.018518518518518517  3   3    energies      energy  NOUN  NNS  pobj  xxxx   \n",
       "4  0.018518518518518517  3   4          in          in   ADP   IN  prep    xx   \n",
       "\n",
       "   18   19  \n",
       "0   1  1.0  \n",
       "1   1  0.0  \n",
       "2   1  1.0  \n",
       "3   1  0.0  \n",
       "4   1  1.0  "
      ]
     },
     "execution_count": 50,
     "metadata": {},
     "output_type": "execute_result"
    }
   ],
   "source": [
    "above_zero.head()"
   ]
  },
  {
   "cell_type": "code",
   "execution_count": 52,
   "metadata": {
    "ExecuteTime": {
     "end_time": "2019-10-04T19:31:30.595184Z",
     "start_time": "2019-10-04T19:31:22.895527Z"
    }
   },
   "outputs": [],
   "source": [
    "above_zero_counts = above_zero.groupby([0,14]).size().unstack(fill_value=0)"
   ]
  },
  {
   "cell_type": "code",
   "execution_count": 67,
   "metadata": {
    "ExecuteTime": {
     "end_time": "2019-10-04T23:55:22.131163Z",
     "start_time": "2019-10-04T23:55:11.125869Z"
    }
   },
   "outputs": [],
   "source": [
    "below_zero = document_attributes_with_title_tokens[document_attributes_with_title_tokens[8] < '0']"
   ]
  },
  {
   "cell_type": "code",
   "execution_count": 68,
   "metadata": {
    "ExecuteTime": {
     "end_time": "2019-10-04T23:55:23.483155Z",
     "start_time": "2019-10-04T23:55:23.444276Z"
    }
   },
   "outputs": [
    {
     "data": {
      "text/html": [
       "<div>\n",
       "<style scoped>\n",
       "    .dataframe tbody tr th:only-of-type {\n",
       "        vertical-align: middle;\n",
       "    }\n",
       "\n",
       "    .dataframe tbody tr th {\n",
       "        vertical-align: top;\n",
       "    }\n",
       "\n",
       "    .dataframe thead th {\n",
       "        text-align: right;\n",
       "    }\n",
       "</style>\n",
       "<table border=\"1\" class=\"dataframe\">\n",
       "  <thead>\n",
       "    <tr style=\"text-align: right;\">\n",
       "      <th></th>\n",
       "      <th>0</th>\n",
       "      <th>1</th>\n",
       "      <th>2</th>\n",
       "      <th>3</th>\n",
       "      <th>4</th>\n",
       "      <th>5</th>\n",
       "      <th>6</th>\n",
       "      <th>7</th>\n",
       "      <th>8</th>\n",
       "      <th>9</th>\n",
       "      <th>10</th>\n",
       "      <th>11</th>\n",
       "      <th>12</th>\n",
       "      <th>13</th>\n",
       "      <th>14</th>\n",
       "      <th>15</th>\n",
       "      <th>16</th>\n",
       "      <th>17</th>\n",
       "      <th>18</th>\n",
       "      <th>19</th>\n",
       "    </tr>\n",
       "  </thead>\n",
       "  <tbody>\n",
       "    <tr>\n",
       "      <th>22</th>\n",
       "      <td>a26781251</td>\n",
       "      <td>article</td>\n",
       "      <td>1996</td>\n",
       "      <td>\\N</td>\n",
       "      <td>Biology|Medicine</td>\n",
       "      <td>-0.008547008547008548</td>\n",
       "      <td>-0.025641025641025644</td>\n",
       "      <td>3</td>\n",
       "      <td>-0.030100334448160536</td>\n",
       "      <td>-0.5719063545150502</td>\n",
       "      <td>19</td>\n",
       "      <td>0</td>\n",
       "      <td>Eucaryotic</td>\n",
       "      <td>eucaryotic</td>\n",
       "      <td>ADJ</td>\n",
       "      <td>JJ</td>\n",
       "      <td>amod</td>\n",
       "      <td>Xxxxx</td>\n",
       "      <td>1</td>\n",
       "      <td>0.0</td>\n",
       "    </tr>\n",
       "    <tr>\n",
       "      <th>23</th>\n",
       "      <td>a26781251</td>\n",
       "      <td>article</td>\n",
       "      <td>1996</td>\n",
       "      <td>\\N</td>\n",
       "      <td>Biology|Medicine</td>\n",
       "      <td>-0.008547008547008548</td>\n",
       "      <td>-0.025641025641025644</td>\n",
       "      <td>3</td>\n",
       "      <td>-0.030100334448160536</td>\n",
       "      <td>-0.5719063545150502</td>\n",
       "      <td>19</td>\n",
       "      <td>1</td>\n",
       "      <td>cells</td>\n",
       "      <td>cell</td>\n",
       "      <td>NOUN</td>\n",
       "      <td>NNS</td>\n",
       "      <td>nsubj</td>\n",
       "      <td>xxxx</td>\n",
       "      <td>1</td>\n",
       "      <td>0.0</td>\n",
       "    </tr>\n",
       "    <tr>\n",
       "      <th>24</th>\n",
       "      <td>a26781251</td>\n",
       "      <td>article</td>\n",
       "      <td>1996</td>\n",
       "      <td>\\N</td>\n",
       "      <td>Biology|Medicine</td>\n",
       "      <td>-0.008547008547008548</td>\n",
       "      <td>-0.025641025641025644</td>\n",
       "      <td>3</td>\n",
       "      <td>-0.030100334448160536</td>\n",
       "      <td>-0.5719063545150502</td>\n",
       "      <td>19</td>\n",
       "      <td>2</td>\n",
       "      <td>protect</td>\n",
       "      <td>protect</td>\n",
       "      <td>VERB</td>\n",
       "      <td>VBP</td>\n",
       "      <td>ROOT</td>\n",
       "      <td>xxxx</td>\n",
       "      <td>1</td>\n",
       "      <td>0.0</td>\n",
       "    </tr>\n",
       "    <tr>\n",
       "      <th>25</th>\n",
       "      <td>a26781251</td>\n",
       "      <td>article</td>\n",
       "      <td>1996</td>\n",
       "      <td>\\N</td>\n",
       "      <td>Biology|Medicine</td>\n",
       "      <td>-0.008547008547008548</td>\n",
       "      <td>-0.025641025641025644</td>\n",
       "      <td>3</td>\n",
       "      <td>-0.030100334448160536</td>\n",
       "      <td>-0.5719063545150502</td>\n",
       "      <td>19</td>\n",
       "      <td>3</td>\n",
       "      <td>Borrelia</td>\n",
       "      <td>Borrelia</td>\n",
       "      <td>PROPN</td>\n",
       "      <td>NNP</td>\n",
       "      <td>compound</td>\n",
       "      <td>Xxxxx</td>\n",
       "      <td>1</td>\n",
       "      <td>0.0</td>\n",
       "    </tr>\n",
       "    <tr>\n",
       "      <th>26</th>\n",
       "      <td>a26781251</td>\n",
       "      <td>article</td>\n",
       "      <td>1996</td>\n",
       "      <td>\\N</td>\n",
       "      <td>Biology|Medicine</td>\n",
       "      <td>-0.008547008547008548</td>\n",
       "      <td>-0.025641025641025644</td>\n",
       "      <td>3</td>\n",
       "      <td>-0.030100334448160536</td>\n",
       "      <td>-0.5719063545150502</td>\n",
       "      <td>19</td>\n",
       "      <td>4</td>\n",
       "      <td>burgdorferi</td>\n",
       "      <td>burgdorferi</td>\n",
       "      <td>PROPN</td>\n",
       "      <td>NNP</td>\n",
       "      <td>dobj</td>\n",
       "      <td>xxxx</td>\n",
       "      <td>1</td>\n",
       "      <td>0.0</td>\n",
       "    </tr>\n",
       "  </tbody>\n",
       "</table>\n",
       "</div>"
      ],
      "text/plain": [
       "           0        1     2   3                 4                      5   \\\n",
       "22  a26781251  article  1996  \\N  Biology|Medicine  -0.008547008547008548   \n",
       "23  a26781251  article  1996  \\N  Biology|Medicine  -0.008547008547008548   \n",
       "24  a26781251  article  1996  \\N  Biology|Medicine  -0.008547008547008548   \n",
       "25  a26781251  article  1996  \\N  Biology|Medicine  -0.008547008547008548   \n",
       "26  a26781251  article  1996  \\N  Biology|Medicine  -0.008547008547008548   \n",
       "\n",
       "                       6  7                      8                    9   10  \\\n",
       "22  -0.025641025641025644  3  -0.030100334448160536  -0.5719063545150502  19   \n",
       "23  -0.025641025641025644  3  -0.030100334448160536  -0.5719063545150502  19   \n",
       "24  -0.025641025641025644  3  -0.030100334448160536  -0.5719063545150502  19   \n",
       "25  -0.025641025641025644  3  -0.030100334448160536  -0.5719063545150502  19   \n",
       "26  -0.025641025641025644  3  -0.030100334448160536  -0.5719063545150502  19   \n",
       "\n",
       "    11           12           13     14   15        16     17  18   19  \n",
       "22   0   Eucaryotic   eucaryotic    ADJ   JJ      amod  Xxxxx   1  0.0  \n",
       "23   1        cells         cell   NOUN  NNS     nsubj   xxxx   1  0.0  \n",
       "24   2      protect      protect   VERB  VBP      ROOT   xxxx   1  0.0  \n",
       "25   3     Borrelia     Borrelia  PROPN  NNP  compound  Xxxxx   1  0.0  \n",
       "26   4  burgdorferi  burgdorferi  PROPN  NNP      dobj   xxxx   1  0.0  "
      ]
     },
     "execution_count": 68,
     "metadata": {},
     "output_type": "execute_result"
    }
   ],
   "source": [
    "below_zero.head()"
   ]
  },
  {
   "cell_type": "code",
   "execution_count": 69,
   "metadata": {
    "ExecuteTime": {
     "end_time": "2019-10-04T23:56:18.706328Z",
     "start_time": "2019-10-04T23:56:10.685210Z"
    }
   },
   "outputs": [],
   "source": [
    "below_zero_counts = below_zero.groupby([0,14]).size().unstack(fill_value=0)"
   ]
  },
  {
   "cell_type": "code",
   "execution_count": 71,
   "metadata": {
    "ExecuteTime": {
     "end_time": "2019-10-04T23:56:34.544313Z",
     "start_time": "2019-10-04T23:56:34.254700Z"
    }
   },
   "outputs": [],
   "source": [
    "below_zero_counts = below_zero_counts.reset_index()"
   ]
  },
  {
   "cell_type": "code",
   "execution_count": 89,
   "metadata": {
    "ExecuteTime": {
     "end_time": "2019-10-05T00:01:47.707936Z",
     "start_time": "2019-10-05T00:01:47.686600Z"
    }
   },
   "outputs": [],
   "source": [
    "below_zero_adj = below_zero_counts['ADJ'].value_counts().reset_index()"
   ]
  },
  {
   "cell_type": "code",
   "execution_count": 91,
   "metadata": {
    "ExecuteTime": {
     "end_time": "2019-10-05T00:02:23.886125Z",
     "start_time": "2019-10-05T00:02:23.878262Z"
    }
   },
   "outputs": [],
   "source": [
    "below_zero_adj = below_zero_adj.rename(columns={'ADJ':'ADJ_below_zero'})"
   ]
  },
  {
   "cell_type": "code",
   "execution_count": 93,
   "metadata": {
    "ExecuteTime": {
     "end_time": "2019-10-05T00:02:41.330857Z",
     "start_time": "2019-10-05T00:02:41.309609Z"
    }
   },
   "outputs": [],
   "source": [
    "below_zero_verb = below_zero_counts['VERB'].value_counts().reset_index()"
   ]
  },
  {
   "cell_type": "code",
   "execution_count": 95,
   "metadata": {
    "ExecuteTime": {
     "end_time": "2019-10-05T00:03:16.912626Z",
     "start_time": "2019-10-05T00:03:16.907231Z"
    }
   },
   "outputs": [],
   "source": [
    "below_zero_verb = below_zero_verb.rename(columns={'VERB':'VERB_below_zero'})"
   ]
  },
  {
   "cell_type": "code",
   "execution_count": 84,
   "metadata": {
    "ExecuteTime": {
     "end_time": "2019-10-05T00:00:16.316756Z",
     "start_time": "2019-10-05T00:00:16.310138Z"
    }
   },
   "outputs": [
    {
     "data": {
      "text/plain": [
       "781347"
      ]
     },
     "execution_count": 84,
     "metadata": {},
     "output_type": "execute_result"
    }
   ],
   "source": [
    "len(above_zero_counts)"
   ]
  },
  {
   "cell_type": "code",
   "execution_count": 85,
   "metadata": {
    "ExecuteTime": {
     "end_time": "2019-10-05T00:00:17.830349Z",
     "start_time": "2019-10-05T00:00:17.821549Z"
    }
   },
   "outputs": [
    {
     "data": {
      "text/plain": [
       "781347"
      ]
     },
     "execution_count": 85,
     "metadata": {},
     "output_type": "execute_result"
    }
   ],
   "source": [
    "len(below_zero_counts)"
   ]
  },
  {
   "cell_type": "code",
   "execution_count": 83,
   "metadata": {
    "ExecuteTime": {
     "end_time": "2019-10-05T00:00:12.783995Z",
     "start_time": "2019-10-05T00:00:12.777717Z"
    }
   },
   "outputs": [],
   "source": [
    "above_zero_counts = above_zero_counts.head(781347)"
   ]
  },
  {
   "cell_type": "code",
   "execution_count": 81,
   "metadata": {
    "ExecuteTime": {
     "end_time": "2019-10-04T23:59:11.772481Z",
     "start_time": "2019-10-04T23:59:10.958489Z"
    }
   },
   "outputs": [
    {
     "data": {
      "text/plain": [
       "781347"
      ]
     },
     "execution_count": 81,
     "metadata": {},
     "output_type": "execute_result"
    }
   ],
   "source": [
    "below_zero_counts[0].nunique()"
   ]
  },
  {
   "cell_type": "code",
   "execution_count": 97,
   "metadata": {
    "ExecuteTime": {
     "end_time": "2019-10-05T00:03:37.106671Z",
     "start_time": "2019-10-05T00:03:37.083373Z"
    }
   },
   "outputs": [],
   "source": [
    "below_zero_noun = below_zero_counts['NOUN'].value_counts().reset_index()"
   ]
  },
  {
   "cell_type": "code",
   "execution_count": 98,
   "metadata": {
    "ExecuteTime": {
     "end_time": "2019-10-05T00:03:55.364013Z",
     "start_time": "2019-10-05T00:03:55.357844Z"
    }
   },
   "outputs": [],
   "source": [
    "below_zero_noun = below_zero_noun.rename(columns={'NOUN':'NOUN_below_zero'})"
   ]
  },
  {
   "cell_type": "code",
   "execution_count": 61,
   "metadata": {
    "ExecuteTime": {
     "end_time": "2019-10-04T19:39:46.053848Z",
     "start_time": "2019-10-04T19:39:45.675702Z"
    }
   },
   "outputs": [],
   "source": [
    "above_zero_counts = above_zero_counts.reset_index()"
   ]
  },
  {
   "cell_type": "code",
   "execution_count": 100,
   "metadata": {
    "ExecuteTime": {
     "end_time": "2019-10-05T00:04:12.530395Z",
     "start_time": "2019-10-05T00:04:12.510226Z"
    }
   },
   "outputs": [],
   "source": [
    "above_zero_noun = above_zero_counts['NOUN'].value_counts().reset_index()"
   ]
  },
  {
   "cell_type": "code",
   "execution_count": 101,
   "metadata": {
    "ExecuteTime": {
     "end_time": "2019-10-05T00:04:42.541019Z",
     "start_time": "2019-10-05T00:04:42.534943Z"
    }
   },
   "outputs": [],
   "source": [
    "above_zero_noun = above_zero_noun.rename(columns={'NOUN':'NOUN_above_zero'})"
   ]
  },
  {
   "cell_type": "code",
   "execution_count": 102,
   "metadata": {
    "ExecuteTime": {
     "end_time": "2019-10-05T00:04:51.009191Z",
     "start_time": "2019-10-05T00:04:50.988538Z"
    }
   },
   "outputs": [],
   "source": [
    "above_zero_adj = above_zero_counts['ADJ'].value_counts().reset_index()"
   ]
  },
  {
   "cell_type": "code",
   "execution_count": 103,
   "metadata": {
    "ExecuteTime": {
     "end_time": "2019-10-05T00:05:10.168201Z",
     "start_time": "2019-10-05T00:05:10.161183Z"
    }
   },
   "outputs": [],
   "source": [
    "above_zero_adj = above_zero_adj.rename(columns={'ADJ':'ADJ_above_zero'})"
   ]
  },
  {
   "cell_type": "code",
   "execution_count": 104,
   "metadata": {
    "ExecuteTime": {
     "end_time": "2019-10-05T00:05:18.284566Z",
     "start_time": "2019-10-05T00:05:18.263533Z"
    }
   },
   "outputs": [],
   "source": [
    "above_zero_verb = above_zero_counts['VERB'].value_counts().reset_index()"
   ]
  },
  {
   "cell_type": "code",
   "execution_count": 106,
   "metadata": {
    "ExecuteTime": {
     "end_time": "2019-10-05T00:05:44.237927Z",
     "start_time": "2019-10-05T00:05:44.231555Z"
    }
   },
   "outputs": [],
   "source": [
    "above_zero_verb = above_zero_verb.rename(columns={'VERB':'VERB_above_zero'})"
   ]
  },
  {
   "cell_type": "code",
   "execution_count": 107,
   "metadata": {
    "ExecuteTime": {
     "end_time": "2019-10-05T00:06:10.802244Z",
     "start_time": "2019-10-05T00:06:10.765379Z"
    }
   },
   "outputs": [
    {
     "data": {
      "text/html": [
       "<div>\n",
       "<style scoped>\n",
       "    .dataframe tbody tr th:only-of-type {\n",
       "        vertical-align: middle;\n",
       "    }\n",
       "\n",
       "    .dataframe tbody tr th {\n",
       "        vertical-align: top;\n",
       "    }\n",
       "\n",
       "    .dataframe thead th {\n",
       "        text-align: right;\n",
       "    }\n",
       "</style>\n",
       "<table border=\"1\" class=\"dataframe\">\n",
       "  <thead>\n",
       "    <tr style=\"text-align: right;\">\n",
       "      <th></th>\n",
       "      <th>index</th>\n",
       "      <th>VERB_above_zero</th>\n",
       "      <th>VERB_below_zero</th>\n",
       "    </tr>\n",
       "  </thead>\n",
       "  <tbody>\n",
       "    <tr>\n",
       "      <th>0</th>\n",
       "      <td>0</td>\n",
       "      <td>373628</td>\n",
       "      <td>380051</td>\n",
       "    </tr>\n",
       "    <tr>\n",
       "      <th>1</th>\n",
       "      <td>1</td>\n",
       "      <td>273687</td>\n",
       "      <td>270155</td>\n",
       "    </tr>\n",
       "    <tr>\n",
       "      <th>2</th>\n",
       "      <td>2</td>\n",
       "      <td>98523</td>\n",
       "      <td>99106</td>\n",
       "    </tr>\n",
       "    <tr>\n",
       "      <th>3</th>\n",
       "      <td>3</td>\n",
       "      <td>26922</td>\n",
       "      <td>25378</td>\n",
       "    </tr>\n",
       "    <tr>\n",
       "      <th>4</th>\n",
       "      <td>4</td>\n",
       "      <td>6461</td>\n",
       "      <td>5223</td>\n",
       "    </tr>\n",
       "    <tr>\n",
       "      <th>5</th>\n",
       "      <td>5</td>\n",
       "      <td>1530</td>\n",
       "      <td>1108</td>\n",
       "    </tr>\n",
       "    <tr>\n",
       "      <th>6</th>\n",
       "      <td>6</td>\n",
       "      <td>421</td>\n",
       "      <td>236</td>\n",
       "    </tr>\n",
       "    <tr>\n",
       "      <th>7</th>\n",
       "      <td>7</td>\n",
       "      <td>118</td>\n",
       "      <td>61</td>\n",
       "    </tr>\n",
       "    <tr>\n",
       "      <th>8</th>\n",
       "      <td>8</td>\n",
       "      <td>41</td>\n",
       "      <td>21</td>\n",
       "    </tr>\n",
       "    <tr>\n",
       "      <th>9</th>\n",
       "      <td>9</td>\n",
       "      <td>8</td>\n",
       "      <td>5</td>\n",
       "    </tr>\n",
       "    <tr>\n",
       "      <th>10</th>\n",
       "      <td>10</td>\n",
       "      <td>4</td>\n",
       "      <td>2</td>\n",
       "    </tr>\n",
       "    <tr>\n",
       "      <th>11</th>\n",
       "      <td>11</td>\n",
       "      <td>3</td>\n",
       "      <td>1</td>\n",
       "    </tr>\n",
       "  </tbody>\n",
       "</table>\n",
       "</div>"
      ],
      "text/plain": [
       "    index  VERB_above_zero  VERB_below_zero\n",
       "0       0           373628           380051\n",
       "1       1           273687           270155\n",
       "2       2            98523            99106\n",
       "3       3            26922            25378\n",
       "4       4             6461             5223\n",
       "5       5             1530             1108\n",
       "6       6              421              236\n",
       "7       7              118               61\n",
       "8       8               41               21\n",
       "9       9                8                5\n",
       "10     10                4                2\n",
       "11     11                3                1"
      ]
     },
     "execution_count": 107,
     "metadata": {},
     "output_type": "execute_result"
    }
   ],
   "source": [
    "above_zero_verb.merge(below_zero_verb,on='index')"
   ]
  },
  {
   "cell_type": "code",
   "execution_count": 110,
   "metadata": {
    "ExecuteTime": {
     "end_time": "2019-10-05T00:06:56.247375Z",
     "start_time": "2019-10-05T00:06:56.217654Z"
    }
   },
   "outputs": [
    {
     "data": {
      "text/html": [
       "<div>\n",
       "<style scoped>\n",
       "    .dataframe tbody tr th:only-of-type {\n",
       "        vertical-align: middle;\n",
       "    }\n",
       "\n",
       "    .dataframe tbody tr th {\n",
       "        vertical-align: top;\n",
       "    }\n",
       "\n",
       "    .dataframe thead th {\n",
       "        text-align: right;\n",
       "    }\n",
       "</style>\n",
       "<table border=\"1\" class=\"dataframe\">\n",
       "  <thead>\n",
       "    <tr style=\"text-align: right;\">\n",
       "      <th></th>\n",
       "      <th>index</th>\n",
       "      <th>NOUN_above_zero</th>\n",
       "      <th>NOUN_below_zero</th>\n",
       "    </tr>\n",
       "  </thead>\n",
       "  <tbody>\n",
       "    <tr>\n",
       "      <th>9</th>\n",
       "      <td>0</td>\n",
       "      <td>12596</td>\n",
       "      <td>14718</td>\n",
       "    </tr>\n",
       "    <tr>\n",
       "      <th>5</th>\n",
       "      <td>1</td>\n",
       "      <td>52774</td>\n",
       "      <td>43848</td>\n",
       "    </tr>\n",
       "    <tr>\n",
       "      <th>2</th>\n",
       "      <td>2</td>\n",
       "      <td>116114</td>\n",
       "      <td>87172</td>\n",
       "    </tr>\n",
       "    <tr>\n",
       "      <th>0</th>\n",
       "      <td>3</td>\n",
       "      <td>149509</td>\n",
       "      <td>119505</td>\n",
       "    </tr>\n",
       "    <tr>\n",
       "      <th>1</th>\n",
       "      <td>4</td>\n",
       "      <td>138655</td>\n",
       "      <td>128780</td>\n",
       "    </tr>\n",
       "    <tr>\n",
       "      <th>3</th>\n",
       "      <td>5</td>\n",
       "      <td>109641</td>\n",
       "      <td>116750</td>\n",
       "    </tr>\n",
       "    <tr>\n",
       "      <th>4</th>\n",
       "      <td>6</td>\n",
       "      <td>78372</td>\n",
       "      <td>93732</td>\n",
       "    </tr>\n",
       "    <tr>\n",
       "      <th>6</th>\n",
       "      <td>7</td>\n",
       "      <td>51272</td>\n",
       "      <td>68264</td>\n",
       "    </tr>\n",
       "    <tr>\n",
       "      <th>7</th>\n",
       "      <td>8</td>\n",
       "      <td>31555</td>\n",
       "      <td>45133</td>\n",
       "    </tr>\n",
       "    <tr>\n",
       "      <th>8</th>\n",
       "      <td>9</td>\n",
       "      <td>18282</td>\n",
       "      <td>28004</td>\n",
       "    </tr>\n",
       "    <tr>\n",
       "      <th>10</th>\n",
       "      <td>10</td>\n",
       "      <td>10497</td>\n",
       "      <td>16154</td>\n",
       "    </tr>\n",
       "    <tr>\n",
       "      <th>11</th>\n",
       "      <td>11</td>\n",
       "      <td>5600</td>\n",
       "      <td>8877</td>\n",
       "    </tr>\n",
       "    <tr>\n",
       "      <th>12</th>\n",
       "      <td>12</td>\n",
       "      <td>2991</td>\n",
       "      <td>4888</td>\n",
       "    </tr>\n",
       "    <tr>\n",
       "      <th>13</th>\n",
       "      <td>13</td>\n",
       "      <td>1621</td>\n",
       "      <td>2619</td>\n",
       "    </tr>\n",
       "    <tr>\n",
       "      <th>14</th>\n",
       "      <td>14</td>\n",
       "      <td>862</td>\n",
       "      <td>1375</td>\n",
       "    </tr>\n",
       "    <tr>\n",
       "      <th>15</th>\n",
       "      <td>15</td>\n",
       "      <td>423</td>\n",
       "      <td>726</td>\n",
       "    </tr>\n",
       "    <tr>\n",
       "      <th>16</th>\n",
       "      <td>16</td>\n",
       "      <td>237</td>\n",
       "      <td>358</td>\n",
       "    </tr>\n",
       "    <tr>\n",
       "      <th>17</th>\n",
       "      <td>17</td>\n",
       "      <td>131</td>\n",
       "      <td>191</td>\n",
       "    </tr>\n",
       "    <tr>\n",
       "      <th>18</th>\n",
       "      <td>18</td>\n",
       "      <td>64</td>\n",
       "      <td>93</td>\n",
       "    </tr>\n",
       "    <tr>\n",
       "      <th>19</th>\n",
       "      <td>19</td>\n",
       "      <td>57</td>\n",
       "      <td>58</td>\n",
       "    </tr>\n",
       "    <tr>\n",
       "      <th>20</th>\n",
       "      <td>20</td>\n",
       "      <td>27</td>\n",
       "      <td>37</td>\n",
       "    </tr>\n",
       "    <tr>\n",
       "      <th>21</th>\n",
       "      <td>21</td>\n",
       "      <td>21</td>\n",
       "      <td>20</td>\n",
       "    </tr>\n",
       "    <tr>\n",
       "      <th>22</th>\n",
       "      <td>22</td>\n",
       "      <td>10</td>\n",
       "      <td>16</td>\n",
       "    </tr>\n",
       "    <tr>\n",
       "      <th>23</th>\n",
       "      <td>23</td>\n",
       "      <td>9</td>\n",
       "      <td>7</td>\n",
       "    </tr>\n",
       "    <tr>\n",
       "      <th>24</th>\n",
       "      <td>24</td>\n",
       "      <td>9</td>\n",
       "      <td>5</td>\n",
       "    </tr>\n",
       "    <tr>\n",
       "      <th>25</th>\n",
       "      <td>25</td>\n",
       "      <td>6</td>\n",
       "      <td>5</td>\n",
       "    </tr>\n",
       "    <tr>\n",
       "      <th>26</th>\n",
       "      <td>26</td>\n",
       "      <td>4</td>\n",
       "      <td>1</td>\n",
       "    </tr>\n",
       "    <tr>\n",
       "      <th>28</th>\n",
       "      <td>29</td>\n",
       "      <td>1</td>\n",
       "      <td>3</td>\n",
       "    </tr>\n",
       "    <tr>\n",
       "      <th>27</th>\n",
       "      <td>30</td>\n",
       "      <td>3</td>\n",
       "      <td>2</td>\n",
       "    </tr>\n",
       "    <tr>\n",
       "      <th>29</th>\n",
       "      <td>32</td>\n",
       "      <td>1</td>\n",
       "      <td>1</td>\n",
       "    </tr>\n",
       "  </tbody>\n",
       "</table>\n",
       "</div>"
      ],
      "text/plain": [
       "    index  NOUN_above_zero  NOUN_below_zero\n",
       "9       0            12596            14718\n",
       "5       1            52774            43848\n",
       "2       2           116114            87172\n",
       "0       3           149509           119505\n",
       "1       4           138655           128780\n",
       "3       5           109641           116750\n",
       "4       6            78372            93732\n",
       "6       7            51272            68264\n",
       "7       8            31555            45133\n",
       "8       9            18282            28004\n",
       "10     10            10497            16154\n",
       "11     11             5600             8877\n",
       "12     12             2991             4888\n",
       "13     13             1621             2619\n",
       "14     14              862             1375\n",
       "15     15              423              726\n",
       "16     16              237              358\n",
       "17     17              131              191\n",
       "18     18               64               93\n",
       "19     19               57               58\n",
       "20     20               27               37\n",
       "21     21               21               20\n",
       "22     22               10               16\n",
       "23     23                9                7\n",
       "24     24                9                5\n",
       "25     25                6                5\n",
       "26     26                4                1\n",
       "28     29                1                3\n",
       "27     30                3                2\n",
       "29     32                1                1"
      ]
     },
     "execution_count": 110,
     "metadata": {},
     "output_type": "execute_result"
    }
   ],
   "source": [
    "above_zero_noun.merge(below_zero_noun,on='index').sort_values('index')"
   ]
  },
  {
   "cell_type": "code",
   "execution_count": 109,
   "metadata": {
    "ExecuteTime": {
     "end_time": "2019-10-05T00:06:38.655883Z",
     "start_time": "2019-10-05T00:06:38.637138Z"
    }
   },
   "outputs": [
    {
     "data": {
      "text/html": [
       "<div>\n",
       "<style scoped>\n",
       "    .dataframe tbody tr th:only-of-type {\n",
       "        vertical-align: middle;\n",
       "    }\n",
       "\n",
       "    .dataframe tbody tr th {\n",
       "        vertical-align: top;\n",
       "    }\n",
       "\n",
       "    .dataframe thead th {\n",
       "        text-align: right;\n",
       "    }\n",
       "</style>\n",
       "<table border=\"1\" class=\"dataframe\">\n",
       "  <thead>\n",
       "    <tr style=\"text-align: right;\">\n",
       "      <th></th>\n",
       "      <th>index</th>\n",
       "      <th>ADJ_above_zero</th>\n",
       "      <th>ADJ_below_zero</th>\n",
       "    </tr>\n",
       "  </thead>\n",
       "  <tbody>\n",
       "    <tr>\n",
       "      <th>0</th>\n",
       "      <td>0</td>\n",
       "      <td>278279</td>\n",
       "      <td>207791</td>\n",
       "    </tr>\n",
       "    <tr>\n",
       "      <th>1</th>\n",
       "      <td>1</td>\n",
       "      <td>259682</td>\n",
       "      <td>236203</td>\n",
       "    </tr>\n",
       "    <tr>\n",
       "      <th>2</th>\n",
       "      <td>2</td>\n",
       "      <td>134980</td>\n",
       "      <td>164579</td>\n",
       "    </tr>\n",
       "    <tr>\n",
       "      <th>3</th>\n",
       "      <td>3</td>\n",
       "      <td>63414</td>\n",
       "      <td>93945</td>\n",
       "    </tr>\n",
       "    <tr>\n",
       "      <th>4</th>\n",
       "      <td>4</td>\n",
       "      <td>27516</td>\n",
       "      <td>45838</td>\n",
       "    </tr>\n",
       "    <tr>\n",
       "      <th>5</th>\n",
       "      <td>5</td>\n",
       "      <td>10842</td>\n",
       "      <td>20042</td>\n",
       "    </tr>\n",
       "    <tr>\n",
       "      <th>6</th>\n",
       "      <td>6</td>\n",
       "      <td>4111</td>\n",
       "      <td>7984</td>\n",
       "    </tr>\n",
       "    <tr>\n",
       "      <th>7</th>\n",
       "      <td>7</td>\n",
       "      <td>1594</td>\n",
       "      <td>3121</td>\n",
       "    </tr>\n",
       "    <tr>\n",
       "      <th>8</th>\n",
       "      <td>8</td>\n",
       "      <td>583</td>\n",
       "      <td>1203</td>\n",
       "    </tr>\n",
       "    <tr>\n",
       "      <th>9</th>\n",
       "      <td>9</td>\n",
       "      <td>188</td>\n",
       "      <td>395</td>\n",
       "    </tr>\n",
       "    <tr>\n",
       "      <th>10</th>\n",
       "      <td>10</td>\n",
       "      <td>92</td>\n",
       "      <td>142</td>\n",
       "    </tr>\n",
       "    <tr>\n",
       "      <th>11</th>\n",
       "      <td>11</td>\n",
       "      <td>31</td>\n",
       "      <td>63</td>\n",
       "    </tr>\n",
       "    <tr>\n",
       "      <th>12</th>\n",
       "      <td>12</td>\n",
       "      <td>22</td>\n",
       "      <td>25</td>\n",
       "    </tr>\n",
       "    <tr>\n",
       "      <th>13</th>\n",
       "      <td>13</td>\n",
       "      <td>5</td>\n",
       "      <td>7</td>\n",
       "    </tr>\n",
       "    <tr>\n",
       "      <th>14</th>\n",
       "      <td>14</td>\n",
       "      <td>4</td>\n",
       "      <td>5</td>\n",
       "    </tr>\n",
       "    <tr>\n",
       "      <th>15</th>\n",
       "      <td>15</td>\n",
       "      <td>1</td>\n",
       "      <td>4</td>\n",
       "    </tr>\n",
       "  </tbody>\n",
       "</table>\n",
       "</div>"
      ],
      "text/plain": [
       "    index  ADJ_above_zero  ADJ_below_zero\n",
       "0       0          278279          207791\n",
       "1       1          259682          236203\n",
       "2       2          134980          164579\n",
       "3       3           63414           93945\n",
       "4       4           27516           45838\n",
       "5       5           10842           20042\n",
       "6       6            4111            7984\n",
       "7       7            1594            3121\n",
       "8       8             583            1203\n",
       "9       9             188             395\n",
       "10     10              92             142\n",
       "11     11              31              63\n",
       "12     12              22              25\n",
       "13     13               5               7\n",
       "14     14               4               5\n",
       "15     15               1               4"
      ]
     },
     "execution_count": 109,
     "metadata": {},
     "output_type": "execute_result"
    }
   ],
   "source": [
    "above_zero_adj.merge(below_zero_adj,on='index')"
   ]
  },
  {
   "cell_type": "code",
   "execution_count": 136,
   "metadata": {
    "ExecuteTime": {
     "end_time": "2019-10-05T00:31:16.166885Z",
     "start_time": "2019-10-05T00:29:49.193480Z"
    }
   },
   "outputs": [],
   "source": [
    "above_zero_groupby = above_zero.groupby(0)[14].apply(list).reset_index()"
   ]
  },
  {
   "cell_type": "code",
   "execution_count": 128,
   "metadata": {
    "ExecuteTime": {
     "end_time": "2019-10-05T00:22:13.110915Z",
     "start_time": "2019-10-05T00:22:12.450130Z"
    }
   },
   "outputs": [
    {
     "data": {
      "text/plain": [
       "888755"
      ]
     },
     "execution_count": 128,
     "metadata": {},
     "output_type": "execute_result"
    }
   ],
   "source": [
    "above_zero[0].nunique()"
   ]
  },
  {
   "cell_type": "code",
   "execution_count": null,
   "metadata": {},
   "outputs": [],
   "source": [
    "below_zero_groupby = below_zero.groupby(0)[14].apply(list).reset_index()"
   ]
  },
  {
   "cell_type": "code",
   "execution_count": 117,
   "metadata": {
    "ExecuteTime": {
     "end_time": "2019-10-05T00:10:37.140248Z",
     "start_time": "2019-10-05T00:10:36.448755Z"
    }
   },
   "outputs": [
    {
     "data": {
      "text/plain": [
       "781347"
      ]
     },
     "execution_count": 117,
     "metadata": {},
     "output_type": "execute_result"
    }
   ],
   "source": [
    "below_zero[0].nunique()"
   ]
  },
  {
   "cell_type": "code",
   "execution_count": 112,
   "metadata": {
    "ExecuteTime": {
     "end_time": "2019-10-05T00:09:20.513644Z",
     "start_time": "2019-10-05T00:09:19.798094Z"
    }
   },
   "outputs": [
    {
     "data": {
      "text/html": [
       "<div>\n",
       "<style scoped>\n",
       "    .dataframe tbody tr th:only-of-type {\n",
       "        vertical-align: middle;\n",
       "    }\n",
       "\n",
       "    .dataframe tbody tr th {\n",
       "        vertical-align: top;\n",
       "    }\n",
       "\n",
       "    .dataframe thead th {\n",
       "        text-align: right;\n",
       "    }\n",
       "</style>\n",
       "<table border=\"1\" class=\"dataframe\">\n",
       "  <thead>\n",
       "    <tr style=\"text-align: right;\">\n",
       "      <th></th>\n",
       "      <th>14</th>\n",
       "      <th>0</th>\n",
       "    </tr>\n",
       "  </thead>\n",
       "  <tbody>\n",
       "    <tr>\n",
       "      <th>0</th>\n",
       "      <td>ADJ</td>\n",
       "      <td>1036009</td>\n",
       "    </tr>\n",
       "    <tr>\n",
       "      <th>1</th>\n",
       "      <td>ADP</td>\n",
       "      <td>1176523</td>\n",
       "    </tr>\n",
       "    <tr>\n",
       "      <th>2</th>\n",
       "      <td>ADV</td>\n",
       "      <td>70990</td>\n",
       "    </tr>\n",
       "    <tr>\n",
       "      <th>3</th>\n",
       "      <td>AUX</td>\n",
       "      <td>15382</td>\n",
       "    </tr>\n",
       "    <tr>\n",
       "      <th>4</th>\n",
       "      <td>CCONJ</td>\n",
       "      <td>396091</td>\n",
       "    </tr>\n",
       "    <tr>\n",
       "      <th>5</th>\n",
       "      <td>DET</td>\n",
       "      <td>417546</td>\n",
       "    </tr>\n",
       "    <tr>\n",
       "      <th>6</th>\n",
       "      <td>INTJ</td>\n",
       "      <td>842</td>\n",
       "    </tr>\n",
       "    <tr>\n",
       "      <th>7</th>\n",
       "      <td>NOUN</td>\n",
       "      <td>3820507</td>\n",
       "    </tr>\n",
       "    <tr>\n",
       "      <th>8</th>\n",
       "      <td>NUM</td>\n",
       "      <td>54838</td>\n",
       "    </tr>\n",
       "    <tr>\n",
       "      <th>9</th>\n",
       "      <td>PART</td>\n",
       "      <td>29700</td>\n",
       "    </tr>\n",
       "    <tr>\n",
       "      <th>10</th>\n",
       "      <td>PRON</td>\n",
       "      <td>27866</td>\n",
       "    </tr>\n",
       "    <tr>\n",
       "      <th>11</th>\n",
       "      <td>PROPN</td>\n",
       "      <td>741035</td>\n",
       "    </tr>\n",
       "    <tr>\n",
       "      <th>12</th>\n",
       "      <td>PUNCT</td>\n",
       "      <td>520306</td>\n",
       "    </tr>\n",
       "    <tr>\n",
       "      <th>13</th>\n",
       "      <td>SCONJ</td>\n",
       "      <td>17366</td>\n",
       "    </tr>\n",
       "    <tr>\n",
       "      <th>14</th>\n",
       "      <td>SPACE</td>\n",
       "      <td>29</td>\n",
       "    </tr>\n",
       "    <tr>\n",
       "      <th>15</th>\n",
       "      <td>SYM</td>\n",
       "      <td>22790</td>\n",
       "    </tr>\n",
       "    <tr>\n",
       "      <th>16</th>\n",
       "      <td>VERB</td>\n",
       "      <td>685837</td>\n",
       "    </tr>\n",
       "    <tr>\n",
       "      <th>17</th>\n",
       "      <td>X</td>\n",
       "      <td>7506</td>\n",
       "    </tr>\n",
       "  </tbody>\n",
       "</table>\n",
       "</div>"
      ],
      "text/plain": [
       "       14       0 \n",
       "0     ADJ  1036009\n",
       "1     ADP  1176523\n",
       "2     ADV    70990\n",
       "3     AUX    15382\n",
       "4   CCONJ   396091\n",
       "5     DET   417546\n",
       "6    INTJ      842\n",
       "7    NOUN  3820507\n",
       "8     NUM    54838\n",
       "9    PART    29700\n",
       "10   PRON    27866\n",
       "11  PROPN   741035\n",
       "12  PUNCT   520306\n",
       "13  SCONJ    17366\n",
       "14  SPACE       29\n",
       "15    SYM    22790\n",
       "16   VERB   685837\n",
       "17      X     7506"
      ]
     },
     "execution_count": 112,
     "metadata": {},
     "output_type": "execute_result"
    }
   ],
   "source": [
    "above_zero.groupby(14).size().reset_index()"
   ]
  },
  {
   "cell_type": "code",
   "execution_count": 113,
   "metadata": {
    "ExecuteTime": {
     "end_time": "2019-10-05T00:09:37.348127Z",
     "start_time": "2019-10-05T00:09:36.582288Z"
    }
   },
   "outputs": [
    {
     "data": {
      "text/html": [
       "<div>\n",
       "<style scoped>\n",
       "    .dataframe tbody tr th:only-of-type {\n",
       "        vertical-align: middle;\n",
       "    }\n",
       "\n",
       "    .dataframe tbody tr th {\n",
       "        vertical-align: top;\n",
       "    }\n",
       "\n",
       "    .dataframe thead th {\n",
       "        text-align: right;\n",
       "    }\n",
       "</style>\n",
       "<table border=\"1\" class=\"dataframe\">\n",
       "  <thead>\n",
       "    <tr style=\"text-align: right;\">\n",
       "      <th></th>\n",
       "      <th>14</th>\n",
       "      <th>0</th>\n",
       "    </tr>\n",
       "  </thead>\n",
       "  <tbody>\n",
       "    <tr>\n",
       "      <th>0</th>\n",
       "      <td>ADJ</td>\n",
       "      <td>1216322</td>\n",
       "    </tr>\n",
       "    <tr>\n",
       "      <th>1</th>\n",
       "      <td>ADP</td>\n",
       "      <td>1451362</td>\n",
       "    </tr>\n",
       "    <tr>\n",
       "      <th>2</th>\n",
       "      <td>ADV</td>\n",
       "      <td>59542</td>\n",
       "    </tr>\n",
       "    <tr>\n",
       "      <th>3</th>\n",
       "      <td>AUX</td>\n",
       "      <td>29486</td>\n",
       "    </tr>\n",
       "    <tr>\n",
       "      <th>4</th>\n",
       "      <td>CCONJ</td>\n",
       "      <td>394184</td>\n",
       "    </tr>\n",
       "    <tr>\n",
       "      <th>5</th>\n",
       "      <td>DET</td>\n",
       "      <td>488201</td>\n",
       "    </tr>\n",
       "    <tr>\n",
       "      <th>6</th>\n",
       "      <td>INTJ</td>\n",
       "      <td>950</td>\n",
       "    </tr>\n",
       "    <tr>\n",
       "      <th>7</th>\n",
       "      <td>NNS</td>\n",
       "      <td>1</td>\n",
       "    </tr>\n",
       "    <tr>\n",
       "      <th>8</th>\n",
       "      <td>NOUN</td>\n",
       "      <td>3724991</td>\n",
       "    </tr>\n",
       "    <tr>\n",
       "      <th>9</th>\n",
       "      <td>NUM</td>\n",
       "      <td>92181</td>\n",
       "    </tr>\n",
       "    <tr>\n",
       "      <th>10</th>\n",
       "      <td>PART</td>\n",
       "      <td>33704</td>\n",
       "    </tr>\n",
       "    <tr>\n",
       "      <th>11</th>\n",
       "      <td>PRON</td>\n",
       "      <td>28560</td>\n",
       "    </tr>\n",
       "    <tr>\n",
       "      <th>12</th>\n",
       "      <td>PROPN</td>\n",
       "      <td>1304379</td>\n",
       "    </tr>\n",
       "    <tr>\n",
       "      <th>13</th>\n",
       "      <td>PUNCT</td>\n",
       "      <td>787905</td>\n",
       "    </tr>\n",
       "    <tr>\n",
       "      <th>14</th>\n",
       "      <td>SCONJ</td>\n",
       "      <td>20888</td>\n",
       "    </tr>\n",
       "    <tr>\n",
       "      <th>15</th>\n",
       "      <td>SPACE</td>\n",
       "      <td>17</td>\n",
       "    </tr>\n",
       "    <tr>\n",
       "      <th>16</th>\n",
       "      <td>SYM</td>\n",
       "      <td>29191</td>\n",
       "    </tr>\n",
       "    <tr>\n",
       "      <th>17</th>\n",
       "      <td>VERB</td>\n",
       "      <td>573020</td>\n",
       "    </tr>\n",
       "    <tr>\n",
       "      <th>18</th>\n",
       "      <td>X</td>\n",
       "      <td>13517</td>\n",
       "    </tr>\n",
       "  </tbody>\n",
       "</table>\n",
       "</div>"
      ],
      "text/plain": [
       "       14       0 \n",
       "0     ADJ  1216322\n",
       "1     ADP  1451362\n",
       "2     ADV    59542\n",
       "3     AUX    29486\n",
       "4   CCONJ   394184\n",
       "5     DET   488201\n",
       "6    INTJ      950\n",
       "7     NNS        1\n",
       "8    NOUN  3724991\n",
       "9     NUM    92181\n",
       "10   PART    33704\n",
       "11   PRON    28560\n",
       "12  PROPN  1304379\n",
       "13  PUNCT   787905\n",
       "14  SCONJ    20888\n",
       "15  SPACE       17\n",
       "16    SYM    29191\n",
       "17   VERB   573020\n",
       "18      X    13517"
      ]
     },
     "execution_count": 113,
     "metadata": {},
     "output_type": "execute_result"
    }
   ],
   "source": [
    "below_zero.groupby(14).size().reset_index()"
   ]
  },
  {
   "cell_type": "code",
   "execution_count": null,
   "metadata": {},
   "outputs": [],
   "source": []
  }
 ],
 "metadata": {
  "kernelspec": {
   "display_name": "Python 3",
   "language": "python",
   "name": "python3"
  },
  "language_info": {
   "codemirror_mode": {
    "name": "ipython",
    "version": 3
   },
   "file_extension": ".py",
   "mimetype": "text/x-python",
   "name": "python",
   "nbconvert_exporter": "python",
   "pygments_lexer": "ipython3",
   "version": "3.7.3"
  },
  "toc": {
   "base_numbering": 1,
   "nav_menu": {},
   "number_sections": true,
   "sideBar": true,
   "skip_h1_title": false,
   "title_cell": "Table of Contents",
   "title_sidebar": "Contents",
   "toc_cell": true,
   "toc_position": {
    "height": "calc(100% - 180px)",
    "left": "10px",
    "top": "150px",
    "width": "165px"
   },
   "toc_section_display": true,
   "toc_window_display": false
  },
  "varInspector": {
   "cols": {
    "lenName": 16,
    "lenType": 16,
    "lenVar": 40
   },
   "kernels_config": {
    "python": {
     "delete_cmd_postfix": "",
     "delete_cmd_prefix": "del ",
     "library": "var_list.py",
     "varRefreshCmd": "print(var_dic_list())"
    },
    "r": {
     "delete_cmd_postfix": ") ",
     "delete_cmd_prefix": "rm(",
     "library": "var_list.r",
     "varRefreshCmd": "cat(var_dic_list()) "
    }
   },
   "types_to_exclude": [
    "module",
    "function",
    "builtin_function_or_method",
    "instance",
    "_Feature"
   ],
   "window_display": false
  }
 },
 "nbformat": 4,
 "nbformat_minor": 2
}
